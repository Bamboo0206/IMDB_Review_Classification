{
 "cells": [
  {
   "cell_type": "markdown",
   "metadata": {},
   "source": [
    "# 1 概述\n",
    "\n",
    "对斯坦福提供的含有50000条IMDB评论的数据集进行情感分类。\n",
    "分别用词袋（bag of word）、TF-IDF、word2vec词向量进行文本或单词向量化；用经典机器学习算法 Naive Bayes 和 SVM 以及深度学习算法 LSTM 进行分类。\n",
    "使用召回率、F1及ROC曲线等指标评价了不同算法的分类效果。"
   ]
  },
  {
   "cell_type": "markdown",
   "metadata": {},
   "source": [
    "# 2 内容\n",
    "2.1 导入必要的模块"
   ]
  },
  {
   "cell_type": "code",
   "execution_count": 1,
   "metadata": {
    "colab": {
     "base_uri": "https://localhost:8080/",
     "height": 121
    },
    "colab_type": "code",
    "id": "rZHdhmrsmCAw",
    "outputId": "cf7ac710-5b6f-4da3-8923-40e1c501bb12"
   },
   "outputs": [
    {
     "name": "stdout",
     "output_type": "stream",
     "text": [
      "Go to this URL in a browser: https://accounts.google.com/o/oauth2/auth?client_id=947318989803-6bn6qk8qdgf4n4g3pfee6491hc0brc4i.apps.googleusercontent.com&redirect_uri=urn%3aietf%3awg%3aoauth%3a2.0%3aoob&response_type=code&scope=email%20https%3a%2f%2fwww.googleapis.com%2fauth%2fdocs.test%20https%3a%2f%2fwww.googleapis.com%2fauth%2fdrive%20https%3a%2f%2fwww.googleapis.com%2fauth%2fdrive.photos.readonly%20https%3a%2f%2fwww.googleapis.com%2fauth%2fpeopleapi.readonly\n",
      "\n",
      "Enter your authorization code:\n",
      "··········\n",
      "Mounted at /content/drive/\n"
     ]
    }
   ],
   "source": [
    "from google.colab import drive\n",
    "drive.mount('/content/drive/')"
   ]
  },
  {
   "cell_type": "code",
   "execution_count": 2,
   "metadata": {
    "colab": {
     "base_uri": "https://localhost:8080/",
     "height": 87
    },
    "colab_type": "code",
    "id": "14JewU1EllTA",
    "outputId": "85ec048c-3840-40eb-d7e7-55d73890efdb"
   },
   "outputs": [
    {
     "name": "stderr",
     "output_type": "stream",
     "text": [
      "/usr/local/lib/python3.6/dist-packages/sklearn/externals/joblib/__init__.py:15: FutureWarning: sklearn.externals.joblib is deprecated in 0.21 and will be removed in 0.23. Please import this functionality directly from joblib, which can be installed with: pip install joblib. If this warning is raised when loading pickled models, you may need to re-serialize those models with scikit-learn 0.21+.\n",
      "  warnings.warn(msg, category=FutureWarning)\n",
      "Using TensorFlow backend.\n"
     ]
    }
   ],
   "source": [
    "import os\n",
    "import numpy as np\n",
    "import pandas as pd\n",
    "import matplotlib.pyplot as plt\n",
    "import pickle\n",
    "from gensim import models\n",
    "import collections\n",
    "import re\n",
    "import string\n",
    "import random\n",
    "\n",
    "from sklearn.feature_extraction.text import CountVectorizer\n",
    "from sklearn.externals import joblib # joblib是pickle的增强版本，对于存储NumPy数组更有效\n",
    "from sklearn.metrics import roc_curve,f1_score,recall_score #ROC曲线\n",
    "from sklearn.utils import shuffle\n",
    "\n",
    "from keras.callbacks import ModelCheckpoint\n",
    "from keras.layers import Dense, Dropout, Reshape, Flatten, concatenate, Input, Embedding\n",
    "from keras.layers.recurrent import LSTM\n",
    "from keras.models import Sequential\n",
    "from keras.preprocessing.text import Tokenizer\n",
    "from keras.preprocessing.sequence import pad_sequences\n",
    "from keras.models import Model"
   ]
  },
  {
   "cell_type": "code",
   "execution_count": 3,
   "metadata": {
    "colab": {},
    "colab_type": "code",
    "id": "x1fhlEyGKCGt"
   },
   "outputs": [],
   "source": [
    "cache_dir=\"/content/drive/My Drive/Colab Notebooks/cache/sentiment_analysis\"\n",
    "os.makedirs(cache_dir, exist_ok=True)  # ensure cache directory exists\n"
   ]
  },
  {
   "cell_type": "markdown",
   "metadata": {
    "colab_type": "text",
    "id": "gkUbTK7GHUC-"
   },
   "source": [
    "# 数据收集\n",
    "解压数据并将其读入内存"
   ]
  },
  {
   "cell_type": "code",
   "execution_count": null,
   "metadata": {
    "colab": {},
    "colab_type": "code",
    "id": "nrdYxyaHmVk5"
   },
   "outputs": [],
   "source": [
    "!gunzip /content/drive/My\\ Drive/aclImdb_v1.tar.gz\n",
    "!tar -xvf /content/drive/My\\ Drive/aclImdb_v1.tar  -C '/content/drive/My Drive/Colab Notebooks/data'"
   ]
  },
  {
   "cell_type": "markdown",
   "metadata": {
    "colab_type": "text",
    "id": "tfLIoWojHz4M"
   },
   "source": [
    "将数据读入内存，合并为一个训练集和一个测试集"
   ]
  },
  {
   "cell_type": "code",
   "execution_count": null,
   "metadata": {
    "colab": {},
    "colab_type": "code",
    "id": "uLmB3NIZllTE"
   },
   "outputs": [],
   "source": [
    "def read_data(base):\n",
    "    X_train = []\n",
    "    Y_train = []\n",
    "    X_test = []\n",
    "    Y_test = []\n",
    "    for folder in [\"train\",\"test\"]:\n",
    "        for label in [\"pos\",\"neg\"]:\n",
    "            path = os.path.join(base,folder,label)\n",
    "            for file_name in os.listdir(path):\n",
    "                with open(os.path.join(path,file_name), encoding='UTF-8') as review:\n",
    "                    if folder == \"train\":\n",
    "                        X_train.append(review.read())\n",
    "                        if label == \"pos\":\n",
    "                            Y_train.append(1)\n",
    "                        else:\n",
    "                            Y_train.append(0)\n",
    "                    elif folder == \"test\":\n",
    "                        X_test.append(review.read())\n",
    "                        if label == \"pos\":\n",
    "                            Y_test.append(1)\n",
    "                        else:\n",
    "                            Y_test.append(0)\n",
    "    print(\"X_train ,Y_train :\",len(X_train),len(Y_train))\n",
    "    print(\"X_test ,Y_test:\",len(X_test),len(Y_test))\n",
    "    assert (len(X_train) == len(Y_train)),\"X_train and Y_train length is not equal\"\n",
    "    assert (len(X_test) == len(Y_test)),\"X_test and Y_test length is not equal\"\n",
    "    X_train,Y_train = shuffle(X_train,Y_train)\n",
    "    X_test,Y_test = shuffle(X_test,Y_test)\n",
    "    return X_train,Y_train,X_test,Y_test"
   ]
  },
  {
   "cell_type": "code",
   "execution_count": null,
   "metadata": {
    "colab": {
     "base_uri": "https://localhost:8080/",
     "height": 50
    },
    "colab_type": "code",
    "id": "Bhinkju0llTH",
    "outputId": "63f293ed-2f9c-466e-c1a6-774d8239b060"
   },
   "outputs": [
    {
     "name": "stdout",
     "output_type": "stream",
     "text": [
      "X_train ,Y_train : 25000 25000\n",
      "X_test ,Y_test: 25000 25000\n"
     ]
    }
   ],
   "source": [
    "# base = \"/content/drive/My Drive/Colab Notebooks/data/aclImdb\"\n",
    "base = \"D:\\\\SourceCode\\\\NLP\\\\dataset\\\\aclImdb\"\n",
    "X_train,Y_train,X_test,Y_test = read_data(base)"
   ]
  },
  {
   "cell_type": "markdown",
   "metadata": {
    "colab_type": "text",
    "id": "54LCWkcaIEvp"
   },
   "source": [
    "查看样本"
   ]
  },
  {
   "cell_type": "code",
   "execution_count": null,
   "metadata": {
    "colab": {
     "base_uri": "https://localhost:8080/",
     "height": 205
    },
    "colab_type": "code",
    "id": "DB18z03dllTK",
    "outputId": "ceb2f4e4-6336-408a-923d-32148476b09f"
   },
   "outputs": [
    {
     "name": "stdout",
     "output_type": "stream",
     "text": [
      "An excellent film with great performances from Zack & Lochley. Much to their displeasure (& mine) Garibaldi arrived on station. (All due respect to Jerry Doyle but in Seasons 4 & 5 I lost sympathy for the character.) It doesn't take him long to start criticizing Zack (who I love best of all on the show)and taking charge. I'm sure Zack could have coped. The Soulhunter plot is fascinating, especially if you believe in heaven as Zack does. The humour supplements it nicely. 10/10 1 Why did they have to waste money on this crap?!<br /><br />WARNING! CONTAINS SPOILERS!!!<br /><br />The plot: down-to-earth-good-kind-girl meets a rich-snob-ignorant guy. Her boyfriend gets jealous and with the guy, they burn down a resturant? (Over an UGLY girl?) Guy has to stay in town to build a new resturant, perfect for the love story to begin. But, hark!!! The girl is dying!!! Isn't that a surprise boys and girls? But she teaches him love life, and enjoy it. He's sad she is dying. She dies. He is sad. But has now learned to love life.<br /><br />What's the moral of the story? When, dying, teach another person to love life.<br /><br />LIKE EVERY OTHER LOVE MOVIE EVER MADE!!!!<br /><br />AAAAAH! This movie was the crapiest thing I have ever seen!!!! Did the director want to try to make this plot original?! AAAH! And the friggin' girl would not die!!! It took her a half hour?! I felt no pity for the charactors, and the love story died the first hour of the movie.<br /><br />1/10<br /><br />DON'T WATCH THIS MOVIE, UNLESS YOU WANT TO BE BORED OR GET A HEAD ACHE!!!! 0\n",
      "What can I say ? An action and allegorical tale which has just about everything. Basically a coming of age tale about a young boy who is thrust into a position of having to save the world ..... and more. He meets a dazzling array of heroes and villains, and has quite a time telling them apart. A definite must-see. 1 With the Nazi rise to power in Eastern Europe in the late 1930's, Charles Chaplin turned his attention to creating a reaction to it. The catalyst may well have been a propaganda publication referring to Chaplin as a Jewish sympathizer. In The Great Dictator, Chaplin created a dead-on parody of Hitler that is as funny as it is frightening at times. The film traces Hitler's experiences in the German army from World War I up to the present day. Simultaneously, Chaplin plays a Jewish barber who dresses like the tramp who comes out of a hospital after a long long time, only to discover how different the world is under Nazi rule.<br /><br />Paulette Goddard, Chaplin's wife at the time, plays a young Jewish girl whose family is oppressed in a Jewish ghetto. Jack Oakie has a great, Oscar-nominated supporting role as a Mussolini look-alike (Benzini Napaloni) who gives Chaplin's Hitler character, Adenoid Hynkel, a lot of fits. Henry Daniell is his usual staid self as Garbitsch, chief adviser to Adenoid Hynkel. Chaplin wrote and directed the film and received Oscar nominations for his screenplay and his acting. The film was also nominated for best picture.<br /><br />Chaplin made the film under tremendous pressure for some obvious reasons and some not so well known. He financed the entire film himself at great risk because of the subject matter, and there were no other major films made regarding Nazi Germany up to that time. The film spent about twenty-one months in production with Chaplin even rebuilding a set and re-shooting a scene to get things right. By the time of the film's release in October of 1940, the war in Europe was well under way with Hitler conquering one country after another, so the film became much more topical at its release than when production first began.<br /><br />There isn't much plot in looking at the film in retrospect; the film seems more like a series of comedy sketches and/or mishaps strung together to get to a purpose independent of the film itself. Several examples of this occur in the last third of the film with the meeting between Hynkel and Napaloni. The scene is very very funny, but it leads no where in terms of the plot. Likewise, the escape of both the barber and Schultz simply leads to the mistaken identity of the barber for Hynkel in order to give Chaplin (through the barber character) an opportunity to pontificate to the audience at the end of the film. On the other hand, what better way to make a point about the misplaced narcissism of Aryan superiority than to have a Jewish Barber mistaken for Hynkel? <br /><br />Still, the film contains many high comic moments, such as the rally speech, the new war developments (bulletproof uniforms, etc.), the dancing globe scene, the coin in the pudding scene, and the entire scenario between Hynkel and Napaloni (including the barber chair scene) to highly recommend the film. One can also not forget the risks Chaplin took in making his first talking film, an anti-Nazi film, and financing the film himself. ***1/2 of 4 stars. 1\n",
      "The Five Deadly Venoms is a great kung-fu action movie wrapped in a whodunnit mystery. There are all the usual telltale signs of a kung-fu flick: great choreography, awful dubbing, different \"styles\" of fighting, and a wide range of greatly exaggerated, often cheesey human emotions. However the plot certainly is better than average. It's interesting and holds your attention throughout the non-fight scenes. Occasionally it's even able to fire up the audience, such as when X character receives horrible injustice.<br /><br />Another thing I love about the Five Deadly Venoms is the beautiful simplicity of the movie's morals and themes. Just about everyone gets what's coming to them. The cowardly, greedy, and corrupt lose out. The bad guys, consumed by selfish greed are ultimately destroyed by their own treachery and backstabbing. The good guys use teamwork, planning, and integrity to overcome the odds and come out on top. <br /><br />Poison Clan rocks! 1 I am really sad that that this film has got so much negative criticism. I think it is a nice little comedy and really funny. The humour in this film is kind of warm and innocent and I like it. I also like Madonna's character and I do not agree that she played herself. She has created a character and a sympathetic one. <br /><br />My favourite scenes were the fighting scene on top of the sinking car and where Madonna climbs over the fence in a fancy dress to claim her love. The humour in the film has a slightly syrrealistic touch and perhaps it is not everybody's cup of tea. But it's their problem, not of the film. <br /><br />I found this film wholesome and sunny. In fact, the day I first saw it I was incredibly sad for some reason and this film lit up my day. And Madonna can act. Just take off your glasses of negative thinking. 1\n",
      "Pam Grier stars as Coffy. She's a nurse who seeks revenge, on the drug dealers who got her sister hooked on bad heroine. Like any 70s Blaxploitation flick, you can expect to see the racist bad guys get their just desserts. <br /><br />There were scores of these films made during the 70s, and they were really demeaning to both black and white audiences alike. This is mainly due to the vicious racial hostility in these films, and the degrading, stereotypical characters. Especially the female characters. <br /><br />Other common threads between Coffy, and other films of its type, include brutal violence, corrupt cops, car chases, a generous abundance of nudity, and sex-crazed gorgeous women. Not to mention urban ghettos populated by drug-dealers, pimps, mobsters, and other criminal scum.<br /><br />Pam Grier, was the undisputed queen of 70s Blaxploitation heroines. She was magnificent, being both tough-as-nails, and drop-dead gorgeous. Like in her other films, Pam outshines the other characters, in Coffy. In fact, Pam is so charismatic on screen, that these sorts of films are unwatchable, without her as the main character. <br /><br />If you like Pam Grier, you're better off seeing her other films, like Foxy Brown, or perhaps Friday Foster. These films have much less empty sleaze, than Coffy does. Pam's character in Coffy, degrades herself way too much to get the bad guys. Pam's characters in her other Blaxploitation films, don't stoop as low to get revenge, as Coffy did. <br /><br />I'd say, only watch Coffy, if you're unable to see any of Pam Grier's other films. Otherwise, Coffy is a waste of time. Only Pam's talent as an actress, makes viewing Coffy bearable. 0 Jacqueline Susann wrote several novels all involving sex and melodrama and a few of them actually were made into films including this effort and they all have the distinction of being some of the worst films ever made. Story here is about Robin Stone (John Phillip Law) and his rise to the top of television by being ruthless and calculating to everyone around him. He's a playboy of the worst sort using and then throwing away every woman he beds including the wife of the IBC network president.<br /><br />*****SPOILER ALERT***** Greg Austin (Robert Ryan) is in charge of the television network IBC and when his younger wife Judith takes one look at Robin she wastes no time getting into bed with him. Greg falls ill and has to take some time off and this is where Robin steps in and starts trying to run the network but during all this a model named Amanda (Jodi Wexler) who is in love with him kills herself. When Greg returns to his job he tries to get rid of Robin by using the morals clause in his contract when rumors start flying about his relationship with Jerry Nelson (David Hemmings) who's a gay fashion photographer.<br /><br />This was directed by Jack Haley Jr. who went on to be a very successful producer in both television and movies but this was only his second film as a director and the material he was forced to deal with seems way over his head! The script comes from Susann's novel and that would probably be why this resembles a cross between \"Alfie\" and \"The Valley of the Dolls\" and I think the reason why her books never could translate well onto film is because the filmmakers made the terrible mistake of taking her stories seriously instead of tongue in cheek. With that, the laughs that come from this are unintentional especially during that totally ridiculous fight towards the end of the film which starts when Cannon refuses to give back the slave bracelet to the gay characters! Hemmings was a very good actor but his role here is completely over the top and it has him wearing one of the worst beards in history and using the term \"chic\" in every other sentence. Law was not the original choice for the lead but another actor that was cast had a serious accident and Law stepped in and delivers one of the more wooden performances this side of Miles O'Keeffe. The film's script suffers in two different areas in that it's both completely silly and horribly dull and it will test a viewers patience if they choose to watch this. One has to wonder what would be the outcome if a director decided to film one of Susann's novels and not take it seriously because the attempt here is ponderous and ridiculous. 0\n",
      "Beside the fact, that in all it's awesomeness this movie has risen beyond all my expectations, this masterpiece of cinema history portrait the overuse of crappy filters in it's best! Paul Johansson and Craig Sheffer show a brotherconflict with all there is to it. As usual a woman concieling her true intentions. The end came as surprising as unforssen as the killing of Keith Scott by his older brother.<br /><br />The scenes in 'wiking land' are just as I remember it from my early time travels. - To be honest my strong passion for trash movies makes this one a must have in my never finished collection.<br /><br />I recommend this movie to all the people in love with the most awesome brother cast from One Tree Hill.<br /><br />-Odin- 1 I don't play video games at all but my children do.<br /><br />I got a big kick out of this. Would like to see more of this type of film. \"very cool\" as my youngest would say.<br /><br />Interesting characters and the overall story line was interesting. Like I said I don't play video games but I think that my children would enjoyed this. It was not full of bad language and that is a pleasant change. This visual concept was different which caught my eye. Plus the sound track was pretty good. I might even try out some of the games my sons plays to see because of this film. Who knows maybe I'll be a gamer someday. 1\n",
      "Though I've yet to review the movie in about two years, I remember exactly what made my opinion go as low as it did. Having loved the original Little Mermaid, and having been obsessed with mermaids as a child could be, I decided I'd take the time to sit down and watch the sequel.<br /><br />Disney, I've got a little message for you. If you don't have the original director and actors handy...you're just looking to get your butt whooped.<br /><br />In the sequel, our story begins with a slightly older Ariel and her daughter, Melody. My first big issue was that Eric and the rest of the crew sang. Yes, I understand that Disney is big on sing-and-dance numbers, but really, that's what made Eric my favorite prince. He was calm, collected, and a genuine gentleman that knew how to have fun. And he DID. NOT. SING.<br /><br />And then there's the villain. Oh, how could we forget the shivers that coursed down our spines whenever Ursula slunk onto the screen, terrifying both Ariel and audiences around the world? Unfortunately, that gene was not passed on to her seemingly useless sister, Morgana. Nothing was ever, EVER said about Morgana in the first movie; she just pops out of nowhere, trying to steal the baby. Oh, how cute. The younger sister is ticked off and instead of going after the trident, decides to kidnap a month-old baby. Gag me.<br /><br />Other than being a flat character with no sense of originality in her, Morgana was just very unorthodox. The same plan as her sister, the same minions (who, by the way, did not scare anyone. I had a three year old on my lap when I watched this movie, and she laughed hysterically.) She had no purpose being in there; I'd like to have seen Mom be the villain. I'm sure she would have done a better job than Little Miss Tish over there.<br /><br />King Triton held none of the respect he'd earned from me in the first movie, and don't even get me started on Scuttle, Sebastian and Flounder. Triton was a stern but loving father in the first movie, and in the second, it's almost like he's lost his will to knock fear into the hearts of his subjects. Scuttle, once a comic relief that made everyone laugh with his 'dingle-hopper' (yes, I'll admit it; I did call my fork a dingle-hopper from time to time after that). In this film, Scuttle's all but forgotten. A supporting character even in the first, he at least added something to the movie. He was rich with a flavor the others didn't have, and in the sequel, they all but stripped it from him entirely. Sebastian was still the same, but twice as worrisome as before. Disney, don't do that. Don't even try to mess with our favorite crab. Or our favorite little fat fish, who becomes a dad and has a multitude of very annoying children. He's fat, and he's bland, and he looks like he's going to flat line any second.<br /><br />The walrus and penguin were unneeded, and after a while, you just start to resent everyone. Especially Melody, who has no depth to her whatsoever.<br /><br />And one of these days, Disney, I'm kicking out of my life.<br /><br />If I didn't love your originals so much. 0 Tim Taylor is an abusive acholoic drug addict. He's a coward and a child and has absolutely no redeeming qualities as an actor or a person. The only film with him in it that is enjoyable is \"Galaxy Quest\" and that just because his character - a boozed out washed up actor from a former hit TV show - was so close to real life for him. The rest of the cast is equally bad. I HATE the mother and the actress that played her Patricia Richardson, she sucks! Ever cliché is there, the stupid woman who is fat and likes opera and only cares about her children, while in real life she's proclaims family values and gets divorced after having twins. And the child actors were about as interesting as a root canal. 0\n",
      "i first saw this movie at the sundance film festival this year, and being a teenager myself i found the movie to be quite appealing. these kids are out of the ordinary and very unexpected to be in a movie of this stature but with the right dialog and junk they made the movie a complete success. i enjoyed this movie more then others but i highly recommend releasing and watching this movie. it is a mixture of witty comments and hilarious reality. capturing the essence of high school, high school record has topped my favorites list and hopefully has a chance to be released into theaters. i truly thank all of the kids who put the hard work into making this film, it helped me cry my eyes our in laughter. 1 I saw this movie on a fluke.I was standing on 42nd street waiting for a bus to go home and a sister started passing out free tickets for a preview of this movie.I gave it a chance not expecting much.The promotional movie posters I've seen on the subway station walls do not give this film justice at all.<br /><br />The movie is about a young rocker who goes on a journey to learn the craft and art of heavy metal.I'll leave it there.The movie is a heavy comedy and lot's of fun.If your are old enough to remember when Heavy Metal dominated the music scene in the eighties you are going to love this film.Jack Black is an amazingly talented comedian and actor and assuming he really wrote and performed the songs in this film he is also a talented musician.<br /><br />Tenacious D is definitely worth a look! 1\n",
      "I'm a big fan of Morgan Freeman. 'The Shawshank Redemption' ranks at the top of my all-time favorite movies. But I have to admit that I have often wondered about his choice of roles. So many of his titles were big budget clichés with no heart. '10 Items Or Less' for me marks the return of Freeman to a role that truly showcases his considerable acting talents.<br /><br />Freeman plays an unnamed, formerly big time Hollywood actor who hasn't worked in several years. He has been offered a part in an unspecified indi picture for which he is doing some research at a grocery store in a poor neighborhood in LA. After being stranded there by his flaky driver, Freeman is offered a ride home by checkout girl Scarlet (Paz Vega), whom he has semi-befriended. Before she can take him home, however, Scarlet has a big job interview she needs to get to, and Freeman agrees to tag along in exchange for the ride.<br /><br />The movie follows Scarlet and Freeman to several locations, but the movie is really just a character piece about the interactions between the two. Freeman is the quintessential disconnected Hollywood type who hasn't heard of Target, and doesn't know his own telephone number or even what day of the week it is. He spouts wisdom from the Dalai Lama filtered thru his 'the whole world is but a stage' mentality, and repeatedly calls Scarlet's job interview an 'audition'. And yet he has a way with people, a way of affecting them that extends beyond his fame. He is a fan of humanity. He studies them, asks incessant questions about them, and delights in their quirks where others would simply be annoyed. In Scarlet, he sees the stubborn, proud loner that he was; he sees the man he used to be.<br /><br />Scarlet, for her part, displays a fierce pride and sharp tongue that serve to hide her own insecurities about herself. Vega plays the role with a connection to Freeman that skates the line between an almost daughterly love and physical attraction, although she plays it beautifully and it's not at all as creepy as it sounds. But even as she feels her connection to Freeman grow, Scarlet has a keen eye for the reality of their different worlds and cuts thru Freeman's Hollywood bull*hit with a sharp pragmatism that refuses to accept anything but the truth.<br /><br />The movie is smart, funny, and well written, with dialogue that is simple but effective. I read one IMDb review that said the lines were 'stilted', which I think is a misinterpretation of realistic human speech. There are no big soliloquies here, no deep soul searching moments. And so the trick is, I think, to show how people in ordinary, everyday life can forge connections with one another. And I think Freeman and Vega pull it off beautifully, painting a picture of a bond between two people that glitters like sun on the ocean, ethereal and elusive. Long after it's gone it lives on in your memories, tantalizing you with what might have been. OK, that was a bit flowery, but I really did like the performances and the movie. I would definitely recommend it. 1 I thought I was going to watch another Friday The 13th or a Halloween rip off, But I was surprised, It's about 3 psycho kids who kill, There's not too many movies like that, I can think of Mikey, Children Of The Corn and a few others, It's not the greatest horror movie but it's a least worth a rent. 1\n",
      "and not in a fun-to-watch way. it's just bad. it's shocking that people have posted positive things about it here. the story sucks, the acting is bad, it's not scary, the special effects aren't special--oh no! the blackboard has hands coming out of it! oh gee--the mirror turned into water! the hair, clothes and makeup in the '50s scenes aren't accurate, and they got a middle-aged man with a receding hairline to play the high-school version of himself. this is like later-on nightmare on elm street stuff. i enjoy sitting down to watch a cheesy horror movie as much as anyone else, but there are better bad ones out there to choose from. 0 Well, I've read the book first and thought: wow would this be cool to see in a movie, than I started searching and found there was already a movie made of it... I bought the movie a week ago on DVD and watched it.. they did it awfully wrong! at first this kid Hapi,who isn't any character in the book, then the mix between the two books ('the river god' and 'the seventh scroll') than Nicolas needing funds while in the book he himself is actually the funder, the whole thing about the Hyksos is wrong also.. Taila is supposed to have invented the lightweight-chariot.. the whole thing about the tomb is also very wrong.. there is supposed to be a channel that has some kind of vacuum-suction around it.. the tomb itself was made in a maze with only a possibility to pass if one knows the rules of the ancient boa-game. There was nothing in the movie about Nicolas being English and Royan was a Coptic-Christian in the book, not a Muslim..This list is endless.. There were only a few things good about the movie, the actors which played Royan, Nahood, Taita, Boris, Mick and Tessay were well-chosen, the rest were just parodies of the characters in the book, Rasfer was the worst, it didn't get even close to the character that was in my head while I wrote the book.. It is such a shame that such a great book is mutilated in such a bad reproduction... I wonder why Wilbur Smith ever gave his permission for this.. 0\n",
      "This was not the worst movie I've ever seen, but that's about as much as can be said about it. It starts off with some good atmosphere; the hospital is suitably sterile and alienating, the mood is set to \"eerie\". And then...nothing. Well, somethings. Just somethings that clearly don't fit in...and no effort is made to clarify the connection between the bizarre and yet not particularly intimidating critters, and the hospital they've taken over. I mean, come on, biker duds? Some band watched a bit too much Gwar.<br /><br />My personal favorite was the head demon, who looks rather a lot like a middle-aged trucker desperately attempting menace, while simultaneously looking like he'd really like prefer to sag down on an afghan-covered couch, undo his belt, pop a can of cheap beer (probably Schlitz), and watch the game. Honestly, I've seen far scarier truckers. At truckstops. Drinking coffee. WWWwoooooohHHHHHoooooooo!!!! Scary!!<br /><br />The other monsters are even more cartoonish, and even less scary. At least, on the DVD, the videos give some explanation of their presence in the hospital...they apparently just randomly pop up in places, play some bippy \"metal\", and cause people to be dead a bit. Barring a few good special effects, and acting that is not entirely terrible given a lack of decent writing, there's just nothing here. It's a background-noise movie only. 0 \"Wagons East\" was a big disappointment for me. But the saddest thing about this movie is that it turned out to be John Candy's last film role (he died just before shooting was completed on this). There are only a few laughs throughout this western spoof, and for a comedy that doesn't cut it. If you want to see a uproarious spoof of western movies, the answer is obvious. See Mel Brooks' classic \"Blazing Saddles\". Or if you want to see Candy in much better material, see \"Summer Rental\", \"Spaceballs\", or \"Uncle Buck\" (just to name a few). These three movies (as well as others) shows us what a great comic actor he was. Unfortuneately, \"Wagons East\" does not. What a shame!<br /><br />* (out of four) 0\n"
     ]
    }
   ],
   "source": [
    "for i in range(10):\n",
    "    print(X_train[i],Y_train[i],X_test[i],Y_test[i])"
   ]
  },
  {
   "cell_type": "markdown",
   "metadata": {
    "colab_type": "text",
    "id": "wEBYKh0SIMYC"
   },
   "source": [
    "# 数据预处理\n",
    "## 数据清洗\n",
    "1. 删除HTML标签：原始数据包含一些HTML标签，例如`<br />`，这些标签使用 BeautifulSoup 模块将其删除。\n",
    "2. 删除标点符号和数字：使用 String 的 punctuation 模块删除标点符号\n",
    "3. 分词：将句子划分为单词\n",
    "4. 去停用词：使用 nltk 的 stopwords 词库删除停用词。\n"
   ]
  },
  {
   "cell_type": "code",
   "execution_count": null,
   "metadata": {
    "colab": {
     "base_uri": "https://localhost:8080/",
     "height": 67
    },
    "colab_type": "code",
    "id": "-GkXCa_rllTM",
    "outputId": "f3e2088d-22e5-4233-dfb3-4064ddf17df7"
   },
   "outputs": [
    {
     "name": "stderr",
     "output_type": "stream",
     "text": [
      "[nltk_data] Error loading stopwords: <urlopen error [Errno 11004]\n",
      "[nltk_data]     getaddrinfo failed>\n"
     ]
    },
    {
     "data": {
      "text/plain": [
       "False"
      ]
     },
     "execution_count": 8,
     "metadata": {
      "tags": []
     },
     "output_type": "execute_result"
    }
   ],
   "source": [
    "from bs4 import BeautifulSoup\n",
    "from string import punctuation\n",
    "from nltk.corpus import stopwords\n",
    "from nltk.stem.porter import *\n",
    "import nltk\n",
    "import re\n",
    "nltk.download('stopwords')"
   ]
  },
  {
   "cell_type": "code",
   "execution_count": null,
   "metadata": {
    "colab": {},
    "colab_type": "code",
    "id": "FBTe-o5ZllTQ"
   },
   "outputs": [],
   "source": [
    "stemmer = PorterStemmer()\n",
    "stopWords = set(stopwords.words('english'))"
   ]
  },
  {
   "cell_type": "code",
   "execution_count": null,
   "metadata": {
    "colab": {},
    "colab_type": "code",
    "id": "RWIkVJArllTT"
   },
   "outputs": [],
   "source": [
    "def review_to_word(review):\n",
    "    soup = BeautifulSoup(review, \"html5lib\")\n",
    "    text = \"\".join([text for text in soup.stripped_strings])\n",
    "    for char in punctuation + \"1234567890\":\n",
    "        text = text.replace(char, \" \")\n",
    "\n",
    "    words = text.lower().split()\n",
    "\n",
    "    filter_words = []\n",
    "    for word in words:\n",
    "        if word not in stopWords: #去停用词\n",
    "            filter_words.append(word)\n",
    "    words = []\n",
    "    for word in filter_words:\n",
    "        words.append(stemmer.stem(word))\n",
    "    return words\n",
    "\n",
    "\n",
    "    # return filter_words\n"
   ]
  },
  {
   "cell_type": "code",
   "execution_count": null,
   "metadata": {
    "colab": {},
    "colab_type": "code",
    "id": "rG7XiIAoXnGk"
   },
   "outputs": [],
   "source": [
    "# 生成一个不用 Poter Stemmer 处理的文本，作为LSTM的输入\n",
    "def review_to_word_no_stemmer(review):\n",
    "    soup = BeautifulSoup(review, \"html5lib\")\n",
    "    text = \"\".join([text for text in soup.stripped_strings])\n",
    "    for char in punctuation + \"1234567890\":\n",
    "        text = text.replace(char, \" \")\n",
    "\n",
    "    words = text.lower().split()\n",
    "\n",
    "    filter_words = []\n",
    "    for word in words:\n",
    "        if word not in stopWords: #去停用词\n",
    "            filter_words.append(word)\n",
    "    words = []\n",
    "    \n",
    "    return filter_words"
   ]
  },
  {
   "cell_type": "code",
   "execution_count": null,
   "metadata": {
    "colab": {},
    "colab_type": "code",
    "id": "0rg4hJc-llTV"
   },
   "outputs": [],
   "source": [
    "def preprocess_data(data_train, data_test, labels_train, labels_test,\n",
    "                    cache_dir=cache_dir, cache_file=\"preprocessed_data.pkl\"):\n",
    "    \"\"\"Convert each review to words; read from cache if available.\"\"\"\n",
    "\n",
    "    # If cache_file is not None, try to read from it first\n",
    "    cache_data = None\n",
    "    if cache_file is not None:\n",
    "        try:\n",
    "            with open(os.path.join(cache_dir, cache_file), \"rb\") as f:\n",
    "                cache_data = pickle.load(f)\n",
    "            print(\"Read preprocessed data from cache file:\", cache_file)\n",
    "        except:\n",
    "            pass  # unable to read from cache, but that's okay\n",
    "\n",
    "    # If cache is missing, then do the heavy lifting\n",
    "    if cache_data is None:\n",
    "        # Preprocess training and test data to obtain words for each review\n",
    "        words_train = list(map(review_to_word, data_train))\n",
    "        words_test = list(map(review_to_word, data_test))\n",
    "\n",
    "        # Write to cache file for future runs\n",
    "        if cache_file is not None:\n",
    "            cache_data = dict(words_train=words_train, words_test=words_test,\n",
    "                              labels_train=labels_train, labels_test=labels_test)\n",
    "            with open(os.path.join(cache_dir, cache_file), \"wb\") as f:\n",
    "                pickle.dump(cache_data, f)\n",
    "            print(\"Wrote preprocessed data to cache file:\", cache_file)\n",
    "    else:\n",
    "        # Unpack data loaded from cache file\n",
    "        words_train, words_test, labels_train, labels_test = (cache_data['words_train'],\n",
    "                                                              cache_data['words_test'], cache_data['labels_train'],\n",
    "                                                              cache_data['labels_test'])\n",
    "\n",
    "    return words_train, words_test, labels_train, labels_test"
   ]
  },
  {
   "cell_type": "code",
   "execution_count": null,
   "metadata": {
    "colab": {
     "base_uri": "https://localhost:8080/",
     "height": 205
    },
    "colab_type": "code",
    "id": "8ZokOGTxllTY",
    "outputId": "6c5788bc-558c-4a25-9520-4dfbeee199f9",
    "scrolled": false
   },
   "outputs": [
    {
     "name": "stdout",
     "output_type": "stream",
     "text": [
      "Wrote preprocessed data to cache file: preprocessed_data.pkl\n",
      "\n",
      "原文\n",
      "This movie is Damian Szifrón's second immersion in movies after his excellent character study in \"El Fondo del Mar\". With \"Tiempo De Valientes\" he creates extremely well done characters, far away from prototypes and with an unprecedented chemistry between them. I've seen Szifron's talent to present every character in a lighthearted way but just enough to involve us emotionally with them. His control over them is magnificent, so he restores on the movie a great direction and an overall brilliantly polished script, the characters laugh and cry with real sentiment and invite the viewer to join them in their emotions and their evolution on screen.<br /><br />The Spanish takes over the English, the Buenos Aires urban landscape at night replaces Hollywood sets and the premise is just as interesting as any other, so we have a film daring to compete over Hollywood's Machinery.<br /><br />But I want you to see the movie mainly because I've never dealt with such endearing characters, all of them. It seems the script suits perfectly to the actors and vice versa. I really believe with a film making like this Argentina is really up to the Competition.\n",
      "\n",
      "处理后的文档\n",
      "['movi', 'damian', 'szifrón', 'second', 'immers', 'movi', 'excel', 'charact', 'studi', 'el', 'fondo', 'del', 'mar', 'tiempo', 'de', 'valient', 'creat', 'extrem', 'well', 'done', 'charact', 'far', 'away', 'prototyp', 'unpreced', 'chemistri', 'seen', 'szifron', 'talent', 'present', 'everi', 'charact', 'lightheart', 'way', 'enough', 'involv', 'us', 'emot', 'control', 'magnific', 'restor', 'movi', 'great', 'direct', 'overal', 'brilliantli', 'polish', 'script', 'charact', 'laugh', 'cri', 'real', 'sentiment', 'invit', 'viewer', 'join', 'emot', 'evolut', 'screen', 'spanish', 'take', 'english', 'bueno', 'air', 'urban', 'landscap', 'night', 'replac', 'hollywood', 'set', 'premis', 'interest', 'film', 'dare', 'compet', 'hollywood', 'machineri', 'want', 'see', 'movi', 'mainli', 'never', 'dealt', 'endear', 'charact', 'seem', 'script', 'suit', 'perfectli', 'actor', 'vice', 'versa', 'realli', 'believ', 'film', 'make', 'like', 'argentina', 'realli', 'competit']\n",
      "\n",
      "标签\n",
      "1\n"
     ]
    }
   ],
   "source": [
    "# 处理数据\n",
    "words_train, words_test, labels_train, labels_test = preprocess_data(\n",
    "    X_train, X_test, Y_train, Y_test,\n",
    "    cache_dir=\"/content/drive/My Drive/Colab Notebooks/cache/sentiment_analysis\",\n",
    "    cache_file=\"preprocessed_data.pkl\")\n",
    "\n",
    "# 查看处理后的结果\n",
    "print(\"\\n原文\")\n",
    "print(X_train[1])\n",
    "print(\"\\n处理后的文档\")\n",
    "print(words_train[1])\n",
    "print(\"\\n标签\")\n",
    "print(labels_train[1])"
   ]
  },
  {
   "cell_type": "markdown",
   "metadata": {
    "colab_type": "text",
    "id": "QFOmMBWUPnS2"
   },
   "source": [
    "# 文本向量化\n",
    "\n",
    "文本向量化使用了四种方法，分别是词袋预处理技术（Bag of Word）、TF-IDF预处理技术、GloVe、word2vec词向量\n",
    "\n"
   ]
  },
  {
   "cell_type": "markdown",
   "metadata": {
    "colab_type": "text",
    "id": "CXLXdBvddaU0"
   },
   "source": [
    "\n",
    "## 词袋预处理技术（Bag of Word）\n",
    "\n",
    "###### 原理\n",
    "\n",
    "​\t\tBag of words将文本中的词语转换为词频矩阵。对于一个文本，Bag of words忽略其词序和语法、句法，仅仅将其看做是一些词汇的集合，而文本中的每个词汇都是独立的。\n",
    "\n",
    "###### 实现\n",
    "\n",
    "* ​使用 `sklearn.feature_extraction.text.CountVectorizer()` 函数实现Bag of Word。\n",
    "\n",
    "\n",
    "\n",
    "*   仅使用训练集生成 Bag of Word 的词汇表，用于将训练数据和测试数据转换为向量表示。需要选择合适的词汇量（这里选择5000），过大会导致矩阵维度过高训练缓慢，过小会丢失文本的信息。\n",
    "\n",
    "\n",
    "*   训练集中的单词集可能与测试集中的单词集不完全相同，如果在转换训练集时遇到了词汇表中没有的单词，则将其忽略。\n",
    "每次生成Bag of Word特征向量文件就将其存储到文件，下次使用Bag of Word特征向量文件直接读取，避免每次都要训练和生成Bag of Word特征向量。\n",
    "\n",
    "*   此外还需要将 Bag of Word特征向量规范化，因为`CountVectorizer()`只是对单词计数，数值可能会相差很大，会影响后续学习过程。使用`sklearn.preprocessing.pr.normalize()` 将数值规范化。\n",
    "*   每次生成Bag of Word特征向量文件就将其存储到文件，下次使用Bag of Word特征向量文件直接读取，避免每次都要训练和生成Bag of Word特征向量。\n",
    "*   此外还需要将 Bag of Word特征向量规范化，因为`CountVectorizer()`只是对单词计数，数值可能会相差很大，会影响后续学习过程。使用`sklearn.preprocessing.pr.normalize()` 将数值规范化。\n"
   ]
  },
  {
   "cell_type": "code",
   "execution_count": null,
   "metadata": {
    "colab": {},
    "colab_type": "code",
    "id": "vfTMot9-llTf"
   },
   "outputs": [],
   "source": [
    "def extract_BoW_features(words_train, words_test, vocabulary_size=5000, #词汇量\n",
    "             cache_dir=cache_dir, cache_file=\"bow_features.pkl\"):\n",
    "\n",
    "    # 尝试读取已经生成的Bag of Word特征向量文件，避免每次运行这块时都重新处理数据生成BoW矩阵\n",
    "    cache_data = None\n",
    "    if cache_file is not None:\n",
    "        try:\n",
    "            with open(os.path.join(cache_dir, cache_file), \"rb\") as f:\n",
    "                cache_data = joblib.load(f)\n",
    "            print(\"Read features from cache file:\", cache_file)\n",
    "        except:\n",
    "            pass  # 文件不存在，需要处理数据生成BoW矩阵\n",
    "\n",
    "    \n",
    "    if cache_data is None: # 处理数据生成BoW矩阵\n",
    "        vectorizer = CountVectorizer(preprocessor=lambda x: x, tokenizer=lambda x: x, max_features=vocabulary_size)\n",
    "        features_train = vectorizer.fit_transform(words_train).toarray()  #训练并转换训练集\n",
    "        features_test = vectorizer.transform(words_test).toarray()  # 转换测试集，不能用fit_transform\n",
    "\n",
    "        if cache_file is not None: # 训练好的Bag of Word特征向量存文件，下次使用直接读取\n",
    "            vocabulary = vectorizer.vocabulary_ #获取词汇表\n",
    "            cache_data = dict(features_train=features_train, features_test=features_test,\n",
    "                              vocabulary=vocabulary)\n",
    "            with open(os.path.join(cache_dir, cache_file), \"wb\") as f:\n",
    "                joblib.dump(cache_data, f)\n",
    "            print(\"Wrote features to cache file:\", cache_file)\n",
    "\n",
    "    else: # 读取到了Bag of Word特征向量文件，将读取到的文件存档拆分并放到变量里\n",
    "        features_train, features_test, vocabulary = (cache_data['features_train'],\n",
    "                                cache_data['features_test'], cache_data['vocabulary'])\n",
    "\n",
    "    return features_train, features_test, vocabulary\n"
   ]
  },
  {
   "cell_type": "code",
   "execution_count": null,
   "metadata": {
    "colab": {
     "base_uri": "https://localhost:8080/",
     "height": 34
    },
    "colab_type": "code",
    "id": "-CJ21VWKllTj",
    "outputId": "78d4f327-644e-4fdf-b9d2-4ca9d5f69566"
   },
   "outputs": [
    {
     "name": "stdout",
     "output_type": "stream",
     "text": [
      "Wrote features to cache file: bow_features.pkl\n"
     ]
    }
   ],
   "source": [
    "# Extract Bag of Words features for both training and test datasets\n",
    "features_train, features_test, vocabulary = extract_BoW_features(words_train, words_test)\n"
   ]
  },
  {
   "cell_type": "code",
   "execution_count": null,
   "metadata": {
    "colab": {
     "base_uri": "https://localhost:8080/",
     "height": 34
    },
    "colab_type": "code",
    "id": "KUFI_g3fllTo",
    "outputId": "0bd7f3d1-42be-4a21-9ac8-ae5ed7bad20f"
   },
   "outputs": [
    {
     "name": "stdout",
     "output_type": "stream",
     "text": [
      "Vocabulary: 5000 words\n"
     ]
    }
   ],
   "source": [
    "print(\"Vocabulary: {} words\".format(len(vocabulary)))"
   ]
  },
  {
   "cell_type": "code",
   "execution_count": null,
   "metadata": {
    "colab": {
     "base_uri": "https://localhost:8080/",
     "height": 205
    },
    "colab_type": "code",
    "id": "imoszfa8llTt",
    "outputId": "b304b328-cf48-4abb-8d1c-0ab1667826fe"
   },
   "outputs": [
    {
     "name": "stdout",
     "output_type": "stream",
     "text": [
      "\n",
      "预处理后的样本\n",
      "['favorit', 'imperi', 'movi', 'one', 'best', 'action', 'adventur', 'flick', 'time', 'grant', 'mclaglen', 'fairbank', 'domin', 'screen', 'dare', 'wise', 'crack', 'pleas', 'pc', 'film', 'goer', 'memor', 'scene', 'abound', 'sergeant', 'sepoy', 'fight', 'hundr', 'thug', 'macchesney', 'cutter', 'give', 'bobbi', 'coot', 'spike', 'punch', 'save', 'eleph', 'cutter', 'macchesney', 'expedit', 'din', 'break', 'cutter', 'jail', 'fork', 'think', 'tri', 'break', 'bleedin', 'pud', 'incred', 'templ', 'scene', 'cutter', 'sing', 'annouc', 'bold', 'brass', 'right', 'arrest', 'could', 'go', 'suffic', 'say', 'tri', 'catch', 'film', 'whenev', 'armchair', 'adventur', 'gener', 'hard', 'imagin', 'better', 'hour']\n",
      "\n",
      "对应的 Bag of Word 特征向量\n",
      "[0 0 0 ... 0 0 0]\n",
      "\n",
      "Label\n",
      "1\n"
     ]
    }
   ],
   "source": [
    "print(\"\\n预处理后的样本\")\n",
    "print(words_train[0])\n",
    "print(\"\\n对应的 Bag of Word 特征向量\")\n",
    "print(features_train[0])\n",
    "print(\"\\nLabel\")\n",
    "print(labels_train[0])"
   ]
  },
  {
   "cell_type": "code",
   "execution_count": null,
   "metadata": {
    "colab": {},
    "colab_type": "code",
    "id": "qw2zkoKOllTv"
   },
   "outputs": [],
   "source": [
    "# 特征值规范化\n",
    "from sklearn.preprocessing import normalize\n",
    "features_train = normalize(features_train)\n",
    "features_test = normalize(features_test)"
   ]
  },
  {
   "cell_type": "markdown",
   "metadata": {
    "colab_type": "text",
    "id": "Sx3uLMc3llTy"
   },
   "source": [
    "## TFIDF"
   ]
  },
  {
   "cell_type": "code",
   "execution_count": null,
   "metadata": {
    "colab": {},
    "colab_type": "code",
    "id": "KZi1NXXkllTz"
   },
   "outputs": [],
   "source": [
    "from sklearn.feature_extraction.text import TfidfVectorizer"
   ]
  },
  {
   "cell_type": "code",
   "execution_count": null,
   "metadata": {
    "colab": {},
    "colab_type": "code",
    "id": "Fi31QLehllT1"
   },
   "outputs": [],
   "source": [
    "def extract_TFIDF_features(words_train, words_test, vocabulary_size=5000,\n",
    "                         cache_dir=cache_dir, cache_file=\"tfidf_features.pkl\"):\n",
    "\n",
    "    # 尝试读取已经生成的TFIDF特征向量文件，避免每次运行这块时都重新处理数据生成TFIDF矩阵\n",
    "    cache_data = None\n",
    "    if cache_file is not None:\n",
    "        try:\n",
    "            with open(os.path.join(cache_dir, cache_file), \"rb\") as f:\n",
    "                cache_data = joblib.load(f)\n",
    "            print(\"Read features from cache file:\", cache_file)\n",
    "        except:\n",
    "            pass # 文件不存在，需要处理数据生成TFIDF矩阵\n",
    "\n",
    "    # 处理数据生成TFIDF矩阵\n",
    "    if cache_data is None:\n",
    "        vectorizer = TfidfVectorizer(preprocessor=lambda x: x, tokenizer=lambda x: x, max_features=vocabulary_size)\n",
    "        features_train = vectorizer.fit_transform(words_train).toarray() #训练并转换训练集\n",
    "\n",
    "        features_test = vectorizer.transform(words_test).toarray()  # 转换测试集，不能用fit_transform\n",
    "\n",
    "        if cache_file is not None:# 将训练好的特征向量存文件，下次使用直接读取\n",
    "            vocabulary = vectorizer.vocabulary_ #获取词汇表\n",
    "            cache_data = dict(features_train=features_train, features_test=features_test,\n",
    "                              vocabulary=vocabulary)\n",
    "            with open(os.path.join(cache_dir, cache_file), \"wb\") as f:\n",
    "                joblib.dump(cache_data, f)\n",
    "            print(\"Wrote features to cache file:\", cache_file)\n",
    "    \n",
    "    else: # 已有TFIDF特征向量文件，将读取到的文件存档拆分并放到变量里\n",
    "        features_train, features_test, vocabulary = (cache_data['features_train'],\n",
    "                                cache_data['features_test'], cache_data['vocabulary'])\n",
    "\n",
    "    return features_train, features_test, vocabulary\n"
   ]
  },
  {
   "cell_type": "code",
   "execution_count": null,
   "metadata": {
    "colab": {
     "base_uri": "https://localhost:8080/",
     "height": 34
    },
    "colab_type": "code",
    "id": "JhmT6Fl_llT4",
    "outputId": "4b10143a-1892-469e-bad7-db48417c85d6"
   },
   "outputs": [
    {
     "name": "stdout",
     "output_type": "stream",
     "text": [
      "Wrote features to cache file: tfidf_features.pkl\n"
     ]
    }
   ],
   "source": [
    "# Extract Bag of Words features for both training and test datasets\n",
    "tfidf_features_train, tfidf_features_test, tfidf_vocabulary = extract_TFIDF_features(words_train, words_test)\n"
   ]
  },
  {
   "cell_type": "code",
   "execution_count": null,
   "metadata": {
    "colab": {
     "base_uri": "https://localhost:8080/",
     "height": 34
    },
    "colab_type": "code",
    "id": "0V6rUhIPllT6",
    "outputId": "81ad0d88-6a5c-4508-88c1-b48ec66502d6"
   },
   "outputs": [
    {
     "name": "stdout",
     "output_type": "stream",
     "text": [
      "Vocabulary: 5000 words\n"
     ]
    }
   ],
   "source": [
    "print(\"Vocabulary: {} words\".format(len(tfidf_vocabulary)))"
   ]
  },
  {
   "cell_type": "code",
   "execution_count": null,
   "metadata": {
    "colab": {
     "base_uri": "https://localhost:8080/",
     "height": 188
    },
    "colab_type": "code",
    "id": "OxPGgk1zllT8",
    "outputId": "23b6739b-4b23-486c-b456-17e27654256b"
   },
   "outputs": [
    {
     "name": "stdout",
     "output_type": "stream",
     "text": [
      "\n",
      "预处理后的样本\n",
      "['favorit', 'imperi', 'movi', 'one', 'best', 'action', 'adventur', 'flick', 'time', 'grant', 'mclaglen', 'fairbank', 'domin', 'screen', 'dare', 'wise', 'crack', 'pleas', 'pc', 'film', 'goer', 'memor', 'scene', 'abound', 'sergeant', 'sepoy', 'fight', 'hundr', 'thug', 'macchesney', 'cutter', 'give', 'bobbi', 'coot', 'spike', 'punch', 'save', 'eleph', 'cutter', 'macchesney', 'expedit', 'din', 'break', 'cutter', 'jail', 'fork', 'think', 'tri', 'break', 'bleedin', 'pud', 'incred', 'templ', 'scene', 'cutter', 'sing', 'annouc', 'bold', 'brass', 'right', 'arrest', 'could', 'go', 'suffic', 'say', 'tri', 'catch', 'film', 'whenev', 'armchair', 'adventur', 'gener', 'hard', 'imagin', 'better', 'hour']\n",
      "\n",
      "对应的 TF-IDF 特征向量\n",
      "[0. 0. 0. ... 0. 0. 0.]\n",
      "\n",
      "Label\n",
      "1\n"
     ]
    }
   ],
   "source": [
    "# 打印例子\n",
    "print(\"\\n预处理后的样本\")\n",
    "print(words_train[0])\n",
    "print(\"\\n对应的 TF-IDF 特征向量\")\n",
    "print(tfidf_features_train[0])\n",
    "print(\"\\nLabel\")\n",
    "print(labels_train[0])"
   ]
  },
  {
   "cell_type": "code",
   "execution_count": null,
   "metadata": {
    "colab": {},
    "colab_type": "code",
    "id": "IsEh-l9QllT_"
   },
   "outputs": [],
   "source": [
    "# TFIDF  normalize\n",
    "tfidf_features_train = normalize(tfidf_features_train)\n",
    "tfidf_features_test = normalize(tfidf_features_test)"
   ]
  },
  {
   "cell_type": "markdown",
   "metadata": {
    "colab_type": "text",
    "id": "aZ5Bbjq6R6WC"
   },
   "source": [
    "## Word2Vec"
   ]
  },
  {
   "cell_type": "code",
   "execution_count": null,
   "metadata": {
    "colab": {},
    "colab_type": "code",
    "id": "kT3GQkT6bytJ"
   },
   "outputs": [],
   "source": [
    "# !gunzip '/content/drive/My Drive/Colab Notebooks/GoogleNews-vectors-negative300.bin.gz'"
   ]
  },
  {
   "cell_type": "code",
   "execution_count": 6,
   "metadata": {
    "colab": {
     "base_uri": "https://localhost:8080/",
     "height": 70
    },
    "colab_type": "code",
    "id": "egJXNKbMbMMe",
    "outputId": "d3647741-bc88-4354-a0ca-0b2974ca96bc"
   },
   "outputs": [
    {
     "name": "stderr",
     "output_type": "stream",
     "text": [
      "/usr/local/lib/python3.6/dist-packages/smart_open/smart_open_lib.py:253: UserWarning: This function is deprecated, use smart_open.open instead. See the migration notes for details: https://github.com/RaRe-Technologies/smart_open/blob/master/README.rst#migrating-to-the-new-open-function\n",
      "  'See the migration notes for details: %s' % _MIGRATION_NOTES_URL\n"
     ]
    }
   ],
   "source": [
    "# from gensim.models.keyedvectors import KeyedVectors\n",
    "word2vec = models.KeyedVectors.load_word2vec_format(\n",
    "    '/content/drive/My Drive/Colab Notebooks/GoogleNews-vectors-negative300.bin', binary=True)"
   ]
  },
  {
   "cell_type": "code",
   "execution_count": 7,
   "metadata": {
    "colab": {},
    "colab_type": "code",
    "id": "c9Oyu-TpR6WM"
   },
   "outputs": [],
   "source": [
    "def get_average_word2vec(tokens_list, vector, generate_missing=False, k=300):\n",
    "    if len(tokens_list)<1:\n",
    "        return np.zeros(k)\n",
    "    if generate_missing:\n",
    "        vectorized = [vector[word] if word in vector else np.random.rand(k) for word in tokens_list]\n",
    "    else:\n",
    "        vectorized = [vector[word] if word in vector else np.zeros(k) for word in tokens_list]\n",
    "    length = len(vectorized)\n",
    "    summed = np.sum(vectorized, axis=0)\n",
    "    averaged = np.divide(summed, length)\n",
    "    return averaged"
   ]
  },
  {
   "cell_type": "code",
   "execution_count": 10,
   "metadata": {
    "colab": {},
    "colab_type": "code",
    "id": "Sinvkor_XnIw"
   },
   "outputs": [],
   "source": [
    "def extract_Word2vec_features(words_train, words_test,\n",
    "              cache_dir=cache_dir, cache_file=\"word2vec_features.pkl\"):\n",
    "\n",
    "    # 尝试读取已经生成的TFIDF特征向量文件，避免每次运行这块时都重新处理数据生成TFIDF矩阵\n",
    "    cache_data = None\n",
    "    if cache_file is not None:\n",
    "        try:\n",
    "            with open(os.path.join(cache_dir, cache_file), \"rb\") as f:\n",
    "                cache_data = joblib.load(f)\n",
    "            print(\"Read features from cache file:\", cache_file)\n",
    "        except:\n",
    "            pass # 文件不存在，需要处理数据生成TFIDF矩阵\n",
    "\n",
    "    # 处理数据生成TFIDF矩阵\n",
    "    if cache_data is None:\n",
    "        features_train=[]\n",
    "        for line in words_train:\n",
    "            features_train.append(get_average_word2vec(line,word2vec)) \n",
    "        features_test=[]\n",
    "        for line in words_test:\n",
    "            features_test.append(get_average_word2vec(line,word2vec))\n",
    "\n",
    "        if cache_file is not None:# 将训练好的特征向量存文件，下次使用直接读取\n",
    "            cache_data = dict(features_train=features_train, features_test=features_test)\n",
    "            with open(os.path.join(cache_dir, cache_file), \"wb\") as f:\n",
    "                joblib.dump(cache_data, f)\n",
    "            print(\"Wrote features to cache file:\", cache_file)\n",
    "    \n",
    "    else: # 已有TFIDF特征向量文件，将读取到的文件存档拆分并放到变量里\n",
    "        features_train, features_test = (cache_data['features_train'],cache_data['features_test'])\n",
    "\n",
    "    return features_train, features_test\n"
   ]
  },
  {
   "cell_type": "code",
   "execution_count": 11,
   "metadata": {
    "colab": {
     "base_uri": "https://localhost:8080/",
     "height": 34
    },
    "colab_type": "code",
    "id": "di0FUPGHaNa8",
    "outputId": "b87fb99f-41fc-4303-8dfe-3803d8095b84"
   },
   "outputs": [
    {
     "name": "stdout",
     "output_type": "stream",
     "text": [
      "Wrote features to cache file: word2vec_features.pkl\n"
     ]
    }
   ],
   "source": [
    "Word2vec_features_train, Word2vec_features_test=extract_Word2vec_features(words_train, words_test)"
   ]
  },
  {
   "cell_type": "code",
   "execution_count": null,
   "metadata": {
    "colab": {},
    "colab_type": "code",
    "id": "1QwgHl-Dm4wv"
   },
   "outputs": [],
   "source": [
    "def get_word2vec_embeddings(vectors, clean_comments, generate_missing=False):\n",
    "    embeddings = clean_comments['tokens'].apply(lambda x: get_average_word2vec(x, vectors, \n",
    "                                                                                generate_missing=generate_missing))\n",
    "    return list(embeddings)"
   ]
  },
  {
   "cell_type": "code",
   "execution_count": null,
   "metadata": {
    "colab": {},
    "colab_type": "code",
    "id": "AX968cBFiFau"
   },
   "outputs": [],
   "source": []
  },
  {
   "cell_type": "markdown",
   "metadata": {
    "colab_type": "text",
    "id": "x4ndP7zQiIW5"
   },
   "source": [
    "# 数据挖掘"
   ]
  },
  {
   "cell_type": "markdown",
   "metadata": {
    "colab_type": "text",
    "id": "FG_fA9b8j8wu"
   },
   "source": [
    "# Naive Bayes\n",
    "调用`sklearn.naive_bayes.GaussianNB`高斯朴素贝叶斯函数进行二分类，使用方法`fit()`训练集训练高斯朴素贝叶斯分类器，并使用`score()`在训练集和测试集上评估它的分类准确率。"
   ]
  },
  {
   "cell_type": "code",
   "execution_count": 15,
   "metadata": {
    "colab": {},
    "colab_type": "code",
    "id": "ze9uvt3pWksi"
   },
   "outputs": [],
   "source": [
    "from sklearn.naive_bayes import GaussianNB"
   ]
  },
  {
   "cell_type": "markdown",
   "metadata": {
    "colab_type": "text",
    "id": "Bc-9wyhxFhcI"
   },
   "source": [
    "Bag of Word + 朴素贝叶斯"
   ]
  },
  {
   "cell_type": "code",
   "execution_count": null,
   "metadata": {
    "colab": {
     "base_uri": "https://localhost:8080/",
     "height": 34
    },
    "colab_type": "code",
    "id": "cSYrclMDllUD",
    "outputId": "d0e6c95f-8dad-42a2-9d41-53864c77a3cd"
   },
   "outputs": [
    {
     "data": {
      "text/plain": [
       "GaussianNB(priors=None, var_smoothing=1e-09)"
      ]
     },
     "execution_count": 27,
     "metadata": {
      "tags": []
     },
     "output_type": "execute_result"
    }
   ],
   "source": [
    "clf1 = GaussianNB()\n",
    "clf1.fit(features_train,labels_train)"
   ]
  },
  {
   "cell_type": "code",
   "execution_count": null,
   "metadata": {
    "colab": {
     "base_uri": "https://localhost:8080/",
     "height": 34
    },
    "colab_type": "code",
    "id": "2gg03UI3llUF",
    "outputId": "6b2a1e9e-1203-4741-9c6b-0222fdaad191"
   },
   "outputs": [
    {
     "name": "stdout",
     "output_type": "stream",
     "text": [
      "[GaussianNB] Accuracy: train = 0.81828, test = 0.72364\n"
     ]
    }
   ],
   "source": [
    "# Calculate the mean accuracy score on training and test sets\n",
    "print(\"[{}] Accuracy: train = {}, test = {}\".format(\n",
    "        clf1.__class__.__name__,\n",
    "        clf1.score(features_train, labels_train),\n",
    "        clf1.score(features_test, labels_test)))"
   ]
  },
  {
   "cell_type": "code",
   "execution_count": null,
   "metadata": {
    "colab": {
     "base_uri": "https://localhost:8080/",
     "height": 313
    },
    "colab_type": "code",
    "id": "Bcf7J67Iqcer",
    "outputId": "12d50c37-e706-4e7f-b40c-cf3aa460be24"
   },
   "outputs": [
    {
     "name": "stdout",
     "output_type": "stream",
     "text": [
      "Recall:  0.61888\n",
      "F1_score:  0.6913006568071132\n"
     ]
    },
    {
     "data": {
      "image/png": "[encoded data removed]",
      "text/plain": [
       "<Figure size 432x288 with 1 Axes>"
      ]
     },
     "metadata": {
      "needs_background": "light",
      "tags": []
     },
     "output_type": "display_data"
    }
   ],
   "source": [
    "y_pred1=clf1.predict(features_test)\n",
    "\n",
    "# recall & F1\n",
    "print( \"Recall: \", recall_score(labels_test, y_pred1))\n",
    "print( \"F1_score: \", f1_score(labels_test, y_pred1))\n",
    "\n",
    "# 画ROC曲线\n",
    "fpr, tpr, thresholds=roc_curve(labels_test,y_pred1)\n",
    "plt.plot(fpr,tpr,linewidth=2,label=\"ROC\")\n",
    "plt.xlabel(\"false presitive rate\")\n",
    "plt.ylabel(\"true presitive rate\")\n",
    "plt.ylim(0,1.05)\n",
    "plt.xlim(0,1.05)\n",
    "plt.legend(loc=4)#图例的位置\n",
    "plt.show()"
   ]
  },
  {
   "cell_type": "markdown",
   "metadata": {
    "colab_type": "text",
    "id": "wWsXfwffFeI6"
   },
   "source": [
    "TF-IDF + 朴素贝叶斯"
   ]
  },
  {
   "cell_type": "code",
   "execution_count": null,
   "metadata": {
    "colab": {
     "base_uri": "https://localhost:8080/",
     "height": 34
    },
    "colab_type": "code",
    "id": "JXEGxna9llUT",
    "outputId": "045a3a34-c213-443f-84ea-58666d26a369"
   },
   "outputs": [
    {
     "name": "stdout",
     "output_type": "stream",
     "text": [
      "[GaussianNB] Accuracy: train = 0.82752, test = 0.73092\n"
     ]
    }
   ],
   "source": [
    "# TF-IDF + 朴素贝叶斯\n",
    "clf3 = GaussianNB()\n",
    "clf3.fit(tfidf_features_train,labels_train)\n",
    "\n",
    "# 计算训练集和测试集上的准确率\n",
    "print(\"[{}] Accuracy: train = {}, test = {}\".format(\n",
    "        clf3.__class__.__name__,\n",
    "        clf3.score(tfidf_features_train, labels_train),\n",
    "        clf3.score(tfidf_features_test, labels_test)))"
   ]
  },
  {
   "cell_type": "code",
   "execution_count": null,
   "metadata": {
    "colab": {
     "base_uri": "https://localhost:8080/",
     "height": 279
    },
    "colab_type": "code",
    "id": "0AyNjrOdrg3I",
    "outputId": "d148755e-bca0-4c65-8718-5e6b48779d05"
   },
   "outputs": [
    {
     "name": "stdout",
     "output_type": "stream",
     "text": [
      "Recall:  0.5788\n",
      "F1_score:  0.6860421012706239\n"
     ]
    },
    {
     "data": {
      "image/png": "[encoded data removed]",
      "text/plain": [
       "<Figure size 432x288 with 1 Axes>"
      ]
     },
     "metadata": {
      "needs_background": "light",
      "tags": []
     },
     "output_type": "display_data"
    }
   ],
   "source": [
    "y_pred3=clf3.predict(features_test)\n",
    "\n",
    "# recall & F1\n",
    "print( \"Recall: \", recall_score(labels_test, y_pred3))\n",
    "print( \"F1_score: \", f1_score(labels_test, y_pred3))\n",
    "\n",
    "# 画ROC曲线\n",
    "fpr, tpr, thresholds=roc_curve(labels_test,y_pred3)\n",
    "plt.plot(fpr,tpr,linewidth=2,label=\"ROC\")\n",
    "plt.xlabel(\"false presitive rate\")\n",
    "plt.ylabel(\"true presitive rate\")\n",
    "plt.ylim(0,1.05)\n",
    "plt.xlim(0,1.05)\n",
    "plt.legend(loc=4)#图例的位置\n",
    "plt.show()"
   ]
  },
  {
   "cell_type": "markdown",
   "metadata": {
    "colab_type": "text",
    "id": "dQtmnkDNdUCg"
   },
   "source": [
    "\n",
    "\n",
    "Word2Vec + Naive Bayes"
   ]
  },
  {
   "cell_type": "code",
   "execution_count": 16,
   "metadata": {
    "colab": {
     "base_uri": "https://localhost:8080/",
     "height": 34
    },
    "colab_type": "code",
    "id": "NrofoIhadUCj",
    "outputId": "08270c18-86a0-4d47-9c1c-923a6db8f607"
   },
   "outputs": [
    {
     "name": "stdout",
     "output_type": "stream",
     "text": [
      "[GaussianNB] Accuracy: train = 0.7776, test = 0.77404\n"
     ]
    }
   ],
   "source": [
    "clf5 = GaussianNB()\n",
    "clf5.fit(np.array(Word2vec_features_train),np.array(labels_train))\n",
    "\n",
    "print(\"[{}] Accuracy: train = {}, test = {}\".format(\n",
    "        clf5.__class__.__name__,\n",
    "        clf5.score(Word2vec_features_train, labels_train),\n",
    "        clf5.score(Word2vec_features_test, labels_test)))"
   ]
  },
  {
   "cell_type": "code",
   "execution_count": 17,
   "metadata": {
    "colab": {
     "base_uri": "https://localhost:8080/",
     "height": 313
    },
    "colab_type": "code",
    "id": "ssexNgwmdUCp",
    "outputId": "631c07f8-e816-46e1-a8a4-146431491217"
   },
   "outputs": [
    {
     "name": "stdout",
     "output_type": "stream",
     "text": [
      "Recall:  0.75256\n",
      "F1_score:  0.7690798348526345\n"
     ]
    },
    {
     "data": {
      "image/png": "[encoded data removed]",
      "text/plain": [
       "<Figure size 432x288 with 1 Axes>"
      ]
     },
     "metadata": {
      "needs_background": "light",
      "tags": []
     },
     "output_type": "display_data"
    }
   ],
   "source": [
    "y_pred5=clf5.predict(Word2vec_features_test)\n",
    "\n",
    "# recall & F1\n",
    "print( \"Recall: \", recall_score(labels_test, y_pred5))\n",
    "print( \"F1_score: \", f1_score(labels_test, y_pred5))\n",
    "\n",
    "# 画ROC曲线\n",
    "fpr, tpr, thresholds=roc_curve(labels_test,y_pred5)\n",
    "plt.plot(fpr,tpr,linewidth=2,label=\"ROC\")\n",
    "plt.xlabel(\"false presitive rate\")\n",
    "plt.ylabel(\"true presitive rate\")\n",
    "plt.ylim(0,1.05)\n",
    "plt.xlim(0,1.05)\n",
    "plt.legend(loc=4)#图例的位置\n",
    "plt.show()"
   ]
  },
  {
   "cell_type": "markdown",
   "metadata": {
    "colab_type": "text",
    "id": "Zl7wNmG9llUI"
   },
   "source": [
    "# SVM\n",
    "调用`sklearn.naive_bayes.GaussianNB`高斯朴素贝叶斯函数进行二分类，使用方法`fit()`训练集训练高斯朴素贝叶斯分类器，并使用`score()`在训练集和测试集上评估它的分类准确率。"
   ]
  },
  {
   "cell_type": "markdown",
   "metadata": {
    "colab_type": "text",
    "id": "VNBm9htHPTja"
   },
   "source": [
    "Bag of Word + SVM"
   ]
  },
  {
   "cell_type": "code",
   "execution_count": 13,
   "metadata": {
    "colab": {},
    "colab_type": "code",
    "id": "dN5IBF05llUI"
   },
   "outputs": [],
   "source": [
    "from sklearn import svm"
   ]
  },
  {
   "cell_type": "code",
   "execution_count": null,
   "metadata": {
    "colab": {
     "base_uri": "https://localhost:8080/",
     "height": 354
    },
    "colab_type": "code",
    "id": "kJsJzn2sllUL",
    "outputId": "f3463110-0ade-48c3-968d-0173cfd7bce3"
   },
   "outputs": [
    {
     "name": "stdout",
     "output_type": "stream",
     "text": [
      "[LibSVM]"
     ]
    },
    {
     "data": {
      "text/plain": [
       "SVC(C=1.0, cache_size=200, class_weight=None, coef0=0.0,\n",
       "    decision_function_shape='ovr', degree=3, gamma='auto_deprecated',\n",
       "    kernel='linear', max_iter=-1, probability=False, random_state=None,\n",
       "    shrinking=True, tol=0.001, verbose=True)"
      ]
     },
     "execution_count": 33,
     "metadata": {
      "tags": []
     },
     "output_type": "execute_result"
    }
   ],
   "source": [
    "# TODO: Train a SVM classifier\n",
    "clf2 = svm.SVC(kernel='linear',verbose=True)\n",
    "clf2.fit(features_train,labels_train)"
   ]
  },
  {
   "cell_type": "code",
   "execution_count": null,
   "metadata": {
    "colab": {},
    "colab_type": "code",
    "id": "ki_zTflfllUO",
    "outputId": "23e9ac9b-ebac-4034-d852-4fd277ca0241"
   },
   "outputs": [
    {
     "name": "stdout",
     "output_type": "stream",
     "text": [
      "[SVC] Accuracy: train = 0.9136, test = 0.87612\n"
     ]
    }
   ],
   "source": [
    "# 计算分类准确率\n",
    "print(\"[{}] Accuracy: train = {}, test = {}\".format(\n",
    "        clf2.__class__.__name__,\n",
    "        clf2.score(features_train, labels_train),\n",
    "        clf2.score(features_test, labels_test)))"
   ]
  },
  {
   "cell_type": "code",
   "execution_count": null,
   "metadata": {
    "colab": {},
    "colab_type": "code",
    "id": "CNQavuF1vtdc",
    "outputId": "71faae49-1880-496f-9b61-c94144e62509"
   },
   "outputs": [
    {
     "name": "stdout",
     "output_type": "stream",
     "text": [
      "Recall:  0.8776\n",
      "F1_score:  0.8763030714542478\n"
     ]
    },
    {
     "data": {
      "image/png": "[encoded data removed]",
      "text/plain": [
       "<Figure size 432x288 with 1 Axes>"
      ]
     },
     "metadata": {
      "needs_background": "light",
      "tags": []
     },
     "output_type": "display_data"
    }
   ],
   "source": [
    "y_pred2=clf2.predict(features_test)\n",
    "\n",
    "# recall & F1\n",
    "print( \"Recall: \", recall_score(labels_test, y_pred2))\n",
    "print( \"F1_score: \", f1_score(labels_test, y_pred2))\n",
    "\n",
    "# 画ROC曲线\n",
    "fpr, tpr, thresholds=roc_curve(labels_test,y_pred2)\n",
    "plt.plot(fpr,tpr,linewidth=2,label=\"ROC\")\n",
    "plt.xlabel(\"false presitive rate\")\n",
    "plt.ylabel(\"true presitive rate\")\n",
    "plt.ylim(0,1.05)\n",
    "plt.xlim(0,1.05)\n",
    "plt.legend(loc=4)#图例的位置\n",
    "plt.show()"
   ]
  },
  {
   "cell_type": "markdown",
   "metadata": {
    "colab_type": "text",
    "id": "wREWHdbGO8c0"
   },
   "source": [
    "TF-IDF + SVM"
   ]
  },
  {
   "cell_type": "code",
   "execution_count": null,
   "metadata": {
    "colab": {},
    "colab_type": "code",
    "id": "Ll5-LJztllUV",
    "outputId": "b7762b18-9dfc-4143-9a4b-4f8e720beeaa"
   },
   "outputs": [
    {
     "name": "stdout",
     "output_type": "stream",
     "text": [
      "[LibSVM][SVC] Accuracy: train = 0.926, test = 0.87468\n"
     ]
    }
   ],
   "source": [
    "clf4 = svm.SVC(kernel='linear',verbose=True)\n",
    "clf4.fit(tfidf_features_train,labels_train)\n",
    "\n",
    "# Calculate the mean accuracy score on training and test sets\n",
    "print(\"[{}] Accuracy: train = {}, test = {}\".format(\n",
    "        clf4.__class__.__name__,\n",
    "        clf4.score(tfidf_features_train, labels_train),\n",
    "        clf4.score(tfidf_features_test, labels_test)))"
   ]
  },
  {
   "cell_type": "code",
   "execution_count": null,
   "metadata": {
    "colab": {},
    "colab_type": "code",
    "id": "7O6DGY8cv4dD",
    "outputId": "26ab0ee1-592a-4e92-fd49-6a71f7518254"
   },
   "outputs": [
    {
     "name": "stdout",
     "output_type": "stream",
     "text": [
      "Recall:  0.89536\n",
      "F1_score:  0.8741018431740081\n"
     ]
    },
    {
     "data": {
      "image/png": "[encoded data removed]",
      "text/plain": [
       "<Figure size 432x288 with 1 Axes>"
      ]
     },
     "metadata": {
      "needs_background": "light",
      "tags": []
     },
     "output_type": "display_data"
    }
   ],
   "source": [
    "y_pred4=clf4.predict(tfidf_features_test)\n",
    "\n",
    "# recall & F1\n",
    "print( \"Recall: \", recall_score(labels_test, y_pred4))\n",
    "print( \"F1_score: \", f1_score(labels_test, y_pred4))\n",
    "\n",
    "# 画ROC曲线\n",
    "fpr, tpr, thresholds=roc_curve(labels_test,y_pred4)\n",
    "plt.plot(fpr,tpr,linewidth=2,label=\"ROC\")\n",
    "plt.xlabel(\"false presitive rate\")\n",
    "plt.ylabel(\"true presitive rate\")\n",
    "plt.ylim(0,1.05)\n",
    "plt.xlim(0,1.05)\n",
    "plt.legend(loc=4)#图例的位置\n",
    "plt.show()"
   ]
  },
  {
   "cell_type": "markdown",
   "metadata": {
    "colab_type": "text",
    "id": "s6ycKRYocpeg"
   },
   "source": [
    "Word2Vec + SVM"
   ]
  },
  {
   "cell_type": "code",
   "execution_count": 14,
   "metadata": {
    "colab": {
     "base_uri": "https://localhost:8080/",
     "height": 34
    },
    "colab_type": "code",
    "id": "IETiup-4-Lea",
    "outputId": "dbc5bfd5-dd82-4ac2-8508-7dfe226612df"
   },
   "outputs": [
    {
     "name": "stdout",
     "output_type": "stream",
     "text": [
      "[LibSVM][SVC] Accuracy: train = 0.85984, test = 0.85612\n"
     ]
    }
   ],
   "source": [
    "clf6 = svm.SVC(kernel='linear',verbose=True)\n",
    "clf6.fit(np.array(Word2vec_features_train),np.array(labels_train))\n",
    "\n",
    "print(\"[{}] Accuracy: train = {}, test = {}\".format(\n",
    "        clf6.__class__.__name__,\n",
    "        clf6.score(Word2vec_features_train, labels_train),\n",
    "        clf6.score(Word2vec_features_test, labels_test)))"
   ]
  },
  {
   "cell_type": "code",
   "execution_count": 18,
   "metadata": {
    "colab": {
     "base_uri": "https://localhost:8080/",
     "height": 313
    },
    "colab_type": "code",
    "id": "YE6k5M6oc3yy",
    "outputId": "51fb4e03-273c-4617-b863-8d7c9384dcfa"
   },
   "outputs": [
    {
     "name": "stdout",
     "output_type": "stream",
     "text": [
      "Recall:  0.85872\n",
      "F1_score:  0.856493117893477\n"
     ]
    },
    {
     "data": {
      "image/png": "[encoded data removed]",
      "text/plain": [
       "<Figure size 432x288 with 1 Axes>"
      ]
     },
     "metadata": {
      "needs_background": "light",
      "tags": []
     },
     "output_type": "display_data"
    }
   ],
   "source": [
    "y_pred6=clf6.predict(Word2vec_features_test)\n",
    "\n",
    "# recall & F1\n",
    "print( \"Recall: \", recall_score(labels_test, y_pred6))\n",
    "print( \"F1_score: \", f1_score(labels_test, y_pred6))\n",
    "\n",
    "# 画ROC曲线\n",
    "fpr, tpr, thresholds=roc_curve(labels_test,y_pred6)\n",
    "plt.plot(fpr,tpr,linewidth=2,label=\"ROC\")\n",
    "plt.xlabel(\"false presitive rate\")\n",
    "plt.ylabel(\"true presitive rate\")\n",
    "plt.ylim(0,1.05)\n",
    "plt.xlim(0,1.05)\n",
    "plt.legend(loc=4)#图例的位置\n",
    "plt.show()"
   ]
  },
  {
   "cell_type": "markdown",
   "metadata": {
    "colab_type": "text",
    "id": "QyrX9SLUNBUm"
   },
   "source": [
    "# LSTM\n",
    "## 处理数据\n"
   ]
  },
  {
   "cell_type": "code",
   "execution_count": 4,
   "metadata": {
    "colab": {},
    "colab_type": "code",
    "id": "zK17RQwVWoh7"
   },
   "outputs": [],
   "source": [
    "def load_preprocessed_data(cache_dir=cache_dir, cache_file=\"preprocessed_data_NoStemmer.pkl\"):\n",
    "  with open(os.path.join(cache_dir, cache_file), \"rb\") as f:\n",
    "    cache_data = pickle.load(f)\n",
    "  print(\"Read preprocessed data from cache file:\", cache_file)\n",
    "  words_train, words_test, labels_train, labels_test = (cache_data['words_train'],\n",
    "    cache_data['words_test'], cache_data['labels_train'],\n",
    "    cache_data['labels_test'])\n",
    "\n",
    "  return words_train, words_test, labels_train, labels_test"
   ]
  },
  {
   "cell_type": "code",
   "execution_count": 5,
   "metadata": {
    "colab": {
     "base_uri": "https://localhost:8080/",
     "height": 34
    },
    "colab_type": "code",
    "id": "Ouaa0b6nWpi1",
    "outputId": "a6fb7984-5f2f-4aee-a176-f35612d9e549"
   },
   "outputs": [
    {
     "name": "stdout",
     "output_type": "stream",
     "text": [
      "Read preprocessed data from cache file: preprocessed_data_NoStemmer.pkl\n"
     ]
    }
   ],
   "source": [
    "words_train, words_test, labels_train, labels_test=load_preprocessed_data(\n",
    "    cache_dir='/content/drive/My Drive/Colab Notebooks/cache/sentiment_analysis')\n"
   ]
  },
  {
   "cell_type": "code",
   "execution_count": null,
   "metadata": {
    "colab": {
     "base_uri": "https://localhost:8080/",
     "height": 195
    },
    "colab_type": "code",
    "id": "da6DKmTXXUAI",
    "outputId": "38269d6b-bd21-4860-c151-30c5e09d1634"
   },
   "outputs": [
    {
     "data": {
      "text/html": [
       "<div>\n",
       "<style scoped>\n",
       "    .dataframe tbody tr th:only-of-type {\n",
       "        vertical-align: middle;\n",
       "    }\n",
       "\n",
       "    .dataframe tbody tr th {\n",
       "        vertical-align: top;\n",
       "    }\n",
       "\n",
       "    .dataframe thead th {\n",
       "        text-align: right;\n",
       "    }\n",
       "</style>\n",
       "<table border=\"1\" class=\"dataframe\">\n",
       "  <thead>\n",
       "    <tr style=\"text-align: right;\">\n",
       "      <th></th>\n",
       "      <th>Text_Final</th>\n",
       "      <th>tokens</th>\n",
       "      <th>Label</th>\n",
       "      <th>Pos</th>\n",
       "      <th>Neg</th>\n",
       "    </tr>\n",
       "  </thead>\n",
       "  <tbody>\n",
       "    <tr>\n",
       "      <th>0</th>\n",
       "      <td>one better kung fu movies quite flawless hoped...</td>\n",
       "      <td>[one, better, kung, fu, movies, quite, flawles...</td>\n",
       "      <td>1</td>\n",
       "      <td>1</td>\n",
       "      <td>0</td>\n",
       "    </tr>\n",
       "    <tr>\n",
       "      <th>1</th>\n",
       "      <td>let go straight point movie would take desert ...</td>\n",
       "      <td>[let, go, straight, point, movie, would, take,...</td>\n",
       "      <td>1</td>\n",
       "      <td>1</td>\n",
       "      <td>0</td>\n",
       "    </tr>\n",
       "    <tr>\n",
       "      <th>2</th>\n",
       "      <td>spoilers alerthomeward bound incredible journe...</td>\n",
       "      <td>[spoilers, alerthomeward, bound, incredible, j...</td>\n",
       "      <td>1</td>\n",
       "      <td>1</td>\n",
       "      <td>0</td>\n",
       "    </tr>\n",
       "    <tr>\n",
       "      <th>3</th>\n",
       "      <td>gillian holroyd kim novak witch secretly attra...</td>\n",
       "      <td>[gillian, holroyd, kim, novak, witch, secretly...</td>\n",
       "      <td>1</td>\n",
       "      <td>1</td>\n",
       "      <td>0</td>\n",
       "    </tr>\n",
       "    <tr>\n",
       "      <th>4</th>\n",
       "      <td>story show good really depressing hate depress...</td>\n",
       "      <td>[story, show, good, really, depressing, hate, ...</td>\n",
       "      <td>0</td>\n",
       "      <td>0</td>\n",
       "      <td>1</td>\n",
       "    </tr>\n",
       "  </tbody>\n",
       "</table>\n",
       "</div>"
      ],
      "text/plain": [
       "                                          Text_Final  ... Neg\n",
       "0  one better kung fu movies quite flawless hoped...  ...   0\n",
       "1  let go straight point movie would take desert ...  ...   0\n",
       "2  spoilers alerthomeward bound incredible journe...  ...   0\n",
       "3  gillian holroyd kim novak witch secretly attra...  ...   0\n",
       "4  story show good really depressing hate depress...  ...   1\n",
       "\n",
       "[5 rows x 5 columns]"
      ]
     },
     "execution_count": 8,
     "metadata": {
      "tags": []
     },
     "output_type": "execute_result"
    }
   ],
   "source": [
    "data_train_dict={\n",
    "    'Text_Final':[' '.join(words for words in row) for row in words_train],\n",
    "    'tokens':words_train,\n",
    "    \"Label\":labels_train,\n",
    "    \"Pos\":labels_train,\n",
    "    \"Neg\":[1-i for i in labels_train]\n",
    "}\n",
    "data_train=pd.DataFrame(data_train_dict)\n",
    "data_train[:5]"
   ]
  },
  {
   "cell_type": "code",
   "execution_count": null,
   "metadata": {
    "colab": {
     "base_uri": "https://localhost:8080/",
     "height": 195
    },
    "colab_type": "code",
    "id": "uJwqjCZGXW7s",
    "outputId": "1324b1c5-2295-49dd-d8e0-20a7c5b282ad"
   },
   "outputs": [
    {
     "data": {
      "text/html": [
       "<div>\n",
       "<style scoped>\n",
       "    .dataframe tbody tr th:only-of-type {\n",
       "        vertical-align: middle;\n",
       "    }\n",
       "\n",
       "    .dataframe tbody tr th {\n",
       "        vertical-align: top;\n",
       "    }\n",
       "\n",
       "    .dataframe thead th {\n",
       "        text-align: right;\n",
       "    }\n",
       "</style>\n",
       "<table border=\"1\" class=\"dataframe\">\n",
       "  <thead>\n",
       "    <tr style=\"text-align: right;\">\n",
       "      <th></th>\n",
       "      <th>Text_Final</th>\n",
       "      <th>tokens</th>\n",
       "      <th>Label</th>\n",
       "      <th>Pos</th>\n",
       "      <th>Neg</th>\n",
       "    </tr>\n",
       "  </thead>\n",
       "  <tbody>\n",
       "    <tr>\n",
       "      <th>0</th>\n",
       "      <td>without doubt worst movie ever seen life nothi...</td>\n",
       "      <td>[without, doubt, worst, movie, ever, seen, lif...</td>\n",
       "      <td>0</td>\n",
       "      <td>0</td>\n",
       "      <td>1</td>\n",
       "    </tr>\n",
       "    <tr>\n",
       "      <th>1</th>\n",
       "      <td>like used watch enjoy high budget hollywood fi...</td>\n",
       "      <td>[like, used, watch, enjoy, high, budget, holly...</td>\n",
       "      <td>1</td>\n",
       "      <td>1</td>\n",
       "      <td>0</td>\n",
       "    </tr>\n",
       "    <tr>\n",
       "      <th>2</th>\n",
       "      <td>howler bad unintentionally funny tom conway po...</td>\n",
       "      <td>[howler, bad, unintentionally, funny, tom, con...</td>\n",
       "      <td>0</td>\n",
       "      <td>0</td>\n",
       "      <td>1</td>\n",
       "    </tr>\n",
       "    <tr>\n",
       "      <th>3</th>\n",
       "      <td>flying war movie buff ranks bottom list histor...</td>\n",
       "      <td>[flying, war, movie, buff, ranks, bottom, list...</td>\n",
       "      <td>0</td>\n",
       "      <td>0</td>\n",
       "      <td>1</td>\n",
       "    </tr>\n",
       "    <tr>\n",
       "      <th>4</th>\n",
       "      <td>minute pray second die clay mccord alex cord u...</td>\n",
       "      <td>[minute, pray, second, die, clay, mccord, alex...</td>\n",
       "      <td>1</td>\n",
       "      <td>1</td>\n",
       "      <td>0</td>\n",
       "    </tr>\n",
       "  </tbody>\n",
       "</table>\n",
       "</div>"
      ],
      "text/plain": [
       "                                          Text_Final  ... Neg\n",
       "0  without doubt worst movie ever seen life nothi...  ...   1\n",
       "1  like used watch enjoy high budget hollywood fi...  ...   0\n",
       "2  howler bad unintentionally funny tom conway po...  ...   1\n",
       "3  flying war movie buff ranks bottom list histor...  ...   1\n",
       "4  minute pray second die clay mccord alex cord u...  ...   0\n",
       "\n",
       "[5 rows x 5 columns]"
      ]
     },
     "execution_count": 9,
     "metadata": {
      "tags": []
     },
     "output_type": "execute_result"
    }
   ],
   "source": [
    "data_test_dict={\n",
    "    'Text_Final':[' '.join(words for words in row) for row in words_test],\n",
    "    'tokens':words_test,\n",
    "    \"Label\":labels_test,\n",
    "    \"Pos\":labels_test,\n",
    "    \"Neg\":[1-i for i in labels_test]\n",
    "}\n",
    "data_test=pd.DataFrame(data_test_dict)\n",
    "data_test[:5]"
   ]
  },
  {
   "cell_type": "markdown",
   "metadata": {
    "colab_type": "text",
    "id": "NuRFm2yOR6Wh"
   },
   "source": [
    "## 将文本序列化"
   ]
  },
  {
   "cell_type": "code",
   "execution_count": null,
   "metadata": {
    "colab": {},
    "colab_type": "code",
    "id": "EX2-TCQ5R6Wc"
   },
   "outputs": [],
   "source": [
    "MAX_SEQUENCE_LENGTH = 1000\n",
    "EMBEDDING_DIM = 300"
   ]
  },
  {
   "cell_type": "code",
   "execution_count": null,
   "metadata": {
    "colab": {
     "base_uri": "https://localhost:8080/",
     "height": 50
    },
    "colab_type": "code",
    "id": "bNNlqV21R6V7",
    "outputId": "3f248690-af5b-40c1-de0a-526664032ec1"
   },
   "outputs": [
    {
     "name": "stdout",
     "output_type": "stream",
     "text": [
      "2989070 words total, with a vocabulary size of 75200\n",
      "Max sentence length is 1416\n"
     ]
    }
   ],
   "source": [
    "# 获取所有词汇和词汇表，以及最长的文本单词数：\n",
    "all_training_words = [word for tokens in data_train[\"tokens\"] for word in tokens]\n",
    "training_sentence_lengths = [len(tokens) for tokens in data_train[\"tokens\"]]\n",
    "TRAINING_VOCAB = sorted(list(set(all_training_words)))\n",
    "print(\"%s words total, with a vocabulary size of %s\" % (len(all_training_words), len(TRAINING_VOCAB)))\n",
    "print(\"Max sentence length is %s\" % max(training_sentence_lengths))"
   ]
  },
  {
   "cell_type": "code",
   "execution_count": null,
   "metadata": {
    "colab": {
     "base_uri": "https://localhost:8080/",
     "height": 50
    },
    "colab_type": "code",
    "id": "mibiHjmBR6V-",
    "outputId": "f609f712-2dfa-4603-c121-419702dc7852"
   },
   "outputs": [
    {
     "name": "stdout",
     "output_type": "stream",
     "text": [
      "2919765 words total, with a vocabulary size of 74367\n",
      "Max sentence length is 1154\n"
     ]
    }
   ],
   "source": [
    "all_test_words = [word for tokens in data_test[\"tokens\"] for word in tokens]\n",
    "test_sentence_lengths = [len(tokens) for tokens in data_test[\"tokens\"]]\n",
    "TEST_VOCAB = sorted(list(set(all_test_words)))\n",
    "print(\"%s words total, with a vocabulary size of %s\" % (len(all_test_words), len(TEST_VOCAB)))\n",
    "print(\"Max sentence length is %s\" % max(test_sentence_lengths))"
   ]
  },
  {
   "cell_type": "code",
   "execution_count": null,
   "metadata": {
    "colab": {},
    "colab_type": "code",
    "id": "XrKC1jobVxL6"
   },
   "outputs": [],
   "source": []
  },
  {
   "cell_type": "code",
   "execution_count": null,
   "metadata": {
    "colab": {
     "base_uri": "https://localhost:8080/",
     "height": 34
    },
    "colab_type": "code",
    "id": "snTTXHbDR6Wi",
    "outputId": "201ae08b-ef00-41d1-f767-7251980f2d13"
   },
   "outputs": [
    {
     "name": "stdout",
     "output_type": "stream",
     "text": [
      "Found 75200 unique tokens.\n"
     ]
    }
   ],
   "source": [
    "# 使用Keras的Tokenizer类将文本转换为序列\n",
    "tokenizer = Tokenizer(num_words=len(TRAINING_VOCAB), lower=True, char_level=False)\n",
    "tokenizer.fit_on_texts(data_train[\"Text_Final\"].tolist())\n",
    "training_sequences = tokenizer.texts_to_sequences(data_train[\"Text_Final\"].tolist())\n",
    "train_word_index = tokenizer.word_index\n",
    "print('Found %s unique tokens.' % len(train_word_index))"
   ]
  },
  {
   "cell_type": "code",
   "execution_count": null,
   "metadata": {
    "colab": {},
    "colab_type": "code",
    "id": "ysoaBiINR6Wr"
   },
   "outputs": [],
   "source": [
    "train_cnn_data = pad_sequences(training_sequences, maxlen=MAX_SEQUENCE_LENGTH)"
   ]
  },
  {
   "cell_type": "code",
   "execution_count": null,
   "metadata": {
    "colab": {},
    "colab_type": "code",
    "id": "qj6gF9CUR6W4"
   },
   "outputs": [],
   "source": [
    "test_sequences = tokenizer.texts_to_sequences(data_test[\"Text_Final\"].tolist())\n",
    "test_cnn_data = pad_sequences(test_sequences, maxlen=MAX_SEQUENCE_LENGTH)"
   ]
  },
  {
   "cell_type": "markdown",
   "metadata": {
    "colab_type": "text",
    "id": "8Nznin8Hebli"
   },
   "source": [
    "## 计算 Embedding Layer 参数矩阵"
   ]
  },
  {
   "cell_type": "code",
   "execution_count": null,
   "metadata": {
    "colab": {
     "base_uri": "https://localhost:8080/",
     "height": 34
    },
    "colab_type": "code",
    "id": "HyxrMpkNR6Ww",
    "outputId": "9ca58e98-2618-4a4f-df8a-509e350c3148"
   },
   "outputs": [
    {
     "name": "stdout",
     "output_type": "stream",
     "text": [
      "(75201, 300)\n"
     ]
    }
   ],
   "source": [
    "train_embedding_weights = np.zeros((len(train_word_index)+1, EMBEDDING_DIM))\n",
    "for word,index in train_word_index.items():\n",
    "    train_embedding_weights[index,:] = word2vec[word] if word in word2vec else np.random.rand(EMBEDDING_DIM)\n",
    "print(train_embedding_weights.shape)"
   ]
  },
  {
   "cell_type": "markdown",
   "metadata": {
    "colab_type": "text",
    "id": "iM0opKfLR6W9"
   },
   "source": [
    "## 构建LSTM"
   ]
  },
  {
   "cell_type": "code",
   "execution_count": null,
   "metadata": {
    "colab": {},
    "colab_type": "code",
    "id": "m-B2asTXR6W-"
   },
   "outputs": [],
   "source": [
    "label_names = ['Pos', 'Neg']"
   ]
  },
  {
   "cell_type": "code",
   "execution_count": null,
   "metadata": {
    "colab": {},
    "colab_type": "code",
    "id": "2xDpXi-vR6XD"
   },
   "outputs": [],
   "source": [
    "y_train = data_train[label_names].values"
   ]
  },
  {
   "cell_type": "code",
   "execution_count": null,
   "metadata": {
    "colab": {},
    "colab_type": "code",
    "id": "SooF4qfVR6XJ"
   },
   "outputs": [],
   "source": [
    "x_train = train_cnn_data\n",
    "y_tr = y_train"
   ]
  },
  {
   "cell_type": "code",
   "execution_count": null,
   "metadata": {
    "colab": {},
    "colab_type": "code",
    "id": "vgQi-WS7R6XP"
   },
   "outputs": [],
   "source": [
    "def recurrent_nn(embeddings, max_sequence_length, num_words, embedding_dim, labels_index):\n",
    "    sequence_input = Input(shape=(max_sequence_length,), dtype='int32')\n",
    "    \n",
    "    embedding_layer = Embedding(num_words,\n",
    "                  embedding_dim,\n",
    "                  weights=[embeddings],\n",
    "                  input_length=max_sequence_length,\n",
    "                  trainable=False)\n",
    "    embedded_sequences = embedding_layer(sequence_input)\n",
    "    lstm = LSTM(256)(embedded_sequences)\n",
    "    \n",
    "    x = Dense(128, activation='relu')(lstm)\n",
    "    x = Dropout(0.2)(x)\n",
    "    preds = Dense(labels_index, activation='sigmoid')(x)\n",
    "\n",
    "    model = Model(sequence_input, preds)\n",
    "    model.compile(loss='binary_crossentropy',\n",
    "                  optimizer='adam',\n",
    "                  metrics=['acc'])\n",
    "    model.summary()\n",
    "    return model"
   ]
  },
  {
   "cell_type": "code",
   "execution_count": null,
   "metadata": {
    "colab": {
     "base_uri": "https://localhost:8080/",
     "height": 353
    },
    "colab_type": "code",
    "id": "2usppx5lR6XW",
    "outputId": "3d93ad93-e32d-4f12-8a86-00954c77b4c6"
   },
   "outputs": [
    {
     "name": "stdout",
     "output_type": "stream",
     "text": [
      "Model: \"model_1\"\n",
      "_________________________________________________________________\n",
      "Layer (type)                 Output Shape              Param #   \n",
      "=================================================================\n",
      "input_1 (InputLayer)         (None, 1000)              0         \n",
      "_________________________________________________________________\n",
      "embedding_1 (Embedding)      (None, 1000, 300)         22560300  \n",
      "_________________________________________________________________\n",
      "lstm_1 (LSTM)                (None, 256)               570368    \n",
      "_________________________________________________________________\n",
      "dense_1 (Dense)              (None, 128)               32896     \n",
      "_________________________________________________________________\n",
      "dropout_1 (Dropout)          (None, 128)               0         \n",
      "_________________________________________________________________\n",
      "dense_2 (Dense)              (None, 2)                 258       \n",
      "=================================================================\n",
      "Total params: 23,163,822\n",
      "Trainable params: 603,522\n",
      "Non-trainable params: 22,560,300\n",
      "_________________________________________________________________\n"
     ]
    }
   ],
   "source": [
    "model = recurrent_nn(train_embedding_weights, MAX_SEQUENCE_LENGTH, len(train_word_index)+1, EMBEDDING_DIM, \n",
    "                len(list(label_names)))"
   ]
  },
  {
   "cell_type": "markdown",
   "metadata": {
    "colab_type": "text",
    "id": "4FCn3pJZR6Xe"
   },
   "source": [
    "## 训练 LSTM"
   ]
  },
  {
   "cell_type": "code",
   "execution_count": null,
   "metadata": {
    "colab": {},
    "colab_type": "code",
    "id": "p6EfOoefR6Xf"
   },
   "outputs": [],
   "source": [
    "num_epochs = 5\n",
    "batch_size = 32"
   ]
  },
  {
   "cell_type": "code",
   "execution_count": null,
   "metadata": {
    "colab": {
     "base_uri": "https://localhost:8080/",
     "height": 202
    },
    "colab_type": "code",
    "id": "zfFvw1vvR6Xl",
    "outputId": "519f5ca5-888b-4e0a-ee21-4fa1c9402a57"
   },
   "outputs": [
    {
     "name": "stdout",
     "output_type": "stream",
     "text": [
      "Train on 22500 samples, validate on 2500 samples\n",
      "Epoch 1/5\n",
      "22500/22500 [==============================] - 3025s 134ms/step - loss: 0.4576 - acc: 0.7935 - val_loss: 0.3605 - val_acc: 0.8436\n",
      "Epoch 2/5\n",
      "22500/22500 [==============================] - 3053s 136ms/step - loss: 0.3567 - acc: 0.8516 - val_loss: 0.3437 - val_acc: 0.8624\n",
      "Epoch 3/5\n",
      "22500/22500 [==============================] - 3071s 137ms/step - loss: 0.3057 - acc: 0.8766 - val_loss: 0.3070 - val_acc: 0.8752\n",
      "Epoch 4/5\n",
      "22500/22500 [==============================] - 3064s 136ms/step - loss: 0.2742 - acc: 0.8913 - val_loss: 0.3015 - val_acc: 0.8790\n",
      "Epoch 5/5\n",
      "22500/22500 [==============================] - 3099s 138ms/step - loss: 0.2463 - acc: 0.9023 - val_loss: 0.2974 - val_acc: 0.8864\n"
     ]
    }
   ],
   "source": [
    "hist = model.fit(x_train, y_tr, epochs=num_epochs, validation_split=0.1, shuffle=True, batch_size=batch_size)"
   ]
  },
  {
   "cell_type": "markdown",
   "metadata": {
    "colab_type": "text",
    "id": "OkbClA6PR6Xr"
   },
   "source": [
    "## 测试 LSTM"
   ]
  },
  {
   "cell_type": "code",
   "execution_count": null,
   "metadata": {
    "colab": {
     "base_uri": "https://localhost:8080/",
     "height": 34
    },
    "colab_type": "code",
    "id": "99T-mmRTR6Xs",
    "outputId": "d5f871c5-1a57-44f8-9aa3-c6092b4147c0"
   },
   "outputs": [
    {
     "name": "stdout",
     "output_type": "stream",
     "text": [
      "25000/25000 [==============================] - 784s 31ms/step\n"
     ]
    }
   ],
   "source": [
    "predictions = model.predict(test_cnn_data, batch_size=1024, verbose=1)"
   ]
  },
  {
   "cell_type": "code",
   "execution_count": null,
   "metadata": {
    "colab": {},
    "colab_type": "code",
    "id": "d_AoHY2WR6X9"
   },
   "outputs": [],
   "source": [
    "labels = [1, 0]\n",
    "prediction_labels=[]\n",
    "for p in predictions:\n",
    "    prediction_labels.append(labels[np.argmax(p)])"
   ]
  },
  {
   "cell_type": "code",
   "execution_count": null,
   "metadata": {
    "colab": {
     "base_uri": "https://localhost:8080/",
     "height": 34
    },
    "colab_type": "code",
    "id": "OTLSqkFbR6YD",
    "outputId": "e5f75b2e-89bb-4d96-edb7-59f34437fbe8"
   },
   "outputs": [
    {
     "data": {
      "text/plain": [
       "0.88612"
      ]
     },
     "execution_count": 33,
     "metadata": {
      "tags": []
     },
     "output_type": "execute_result"
    }
   ],
   "source": [
    "sum(data_test.Label==prediction_labels)/len(prediction_labels)"
   ]
  },
  {
   "cell_type": "code",
   "execution_count": null,
   "metadata": {
    "colab": {
     "base_uri": "https://localhost:8080/",
     "height": 313
    },
    "colab_type": "code",
    "id": "shZ27ND6xijO",
    "outputId": "f5f15ec0-eef9-4c0e-ae2c-6b796c411bd8"
   },
   "outputs": [
    {
     "name": "stdout",
     "output_type": "stream",
     "text": [
      "Recall:  0.89744\n",
      "F1_score:  0.8873946920855912\n"
     ]
    },
    {
     "data": {
      "image/png": "[encoded data removed]",
      "text/plain": [
       "<Figure size 432x288 with 1 Axes>"
      ]
     },
     "metadata": {
      "needs_background": "light",
      "tags": []
     },
     "output_type": "display_data"
    }
   ],
   "source": [
    "# recall & F1\n",
    "print( \"Recall: \", recall_score(data_test.Label,prediction_labels))\n",
    "print( \"F1_score: \", f1_score(data_test.Label,prediction_labels))\n",
    "\n",
    "# 画ROC曲线\n",
    "fpr, tpr, thresholds=roc_curve(data_test.Label,prediction_labels)\n",
    "plt.plot(fpr,tpr,linewidth=2,label=\"ROC\")\n",
    "plt.xlabel(\"false presitive rate\")\n",
    "plt.ylabel(\"true presitive rate\")\n",
    "plt.ylim(0,1.05)\n",
    "plt.xlim(0,1.05)\n",
    "plt.legend(loc=4)#图例的位置\n",
    "plt.show()"
   ]
  },
  {
   "cell_type": "markdown",
   "metadata": {
    "colab_type": "text",
    "id": "XwCRMKBble9C"
   },
   "source": [
    "# 总结"
   ]
  },
  {
   "cell_type": "markdown",
   "metadata": {
    "colab_type": "text",
    "id": "B8YEeSqLlZzG"
   },
   "source": [
    "\n",
    "\n",
    "| 分类算法\\文本预处理算法 | Bag of Word                     | TF-IDF                          | Word2Vec                        |\n",
    "| ----------------------- | ------------------------------- | ------------------------------- | ------------------------------- |\n",
    "| Naive Bayes             | train = 0.81828, test = 0.72364 | train = 0.82752, test = 0.73092 | train = 0.7776, test = 0.77404  |\n",
    "| SVM                     | train = 0.91364, test = 0.87624 | train = 0.92604, test = 0.87472 | train = 0.85984, test = 0.85612 |\n",
    "| LSTM                    |                                 |                                 | train = 0.9023，test = 0.88612  |\n",
    "\n",
    "- 不同预处理方法对分类模型效果影响\n",
    "\n",
    "  ​\t\t对于 Bag of Word 、TF-IDF、Word2Vec 这三种文本处理方法，Word2Vec 是最好的，TF-IDF 次之，Bag of Word 最差。Word2Vec 将单词映射到低维稠密的向量，具有良好的语义特性，每一维表示词语的一个潜在特征，该特征捕获了有用的句法和语义特性；TF-IDF、Word2Vec都将单词映射到高维稀疏向量，并且不具有语义， Bag of Word 只计词频，不计单词在语料库中出现的频率，会赋予常用的不重要的词汇高权重；TF-IDF 是Bag of Word的优化，考虑了词频和逆文档频率，能够过滤掉常见的词语，保留重要的词语。\n",
    "\n",
    "  \n",
    "\n",
    "- 比较不同模型分类效果\n",
    "\n",
    "  分类准确率：LSTM > SVM > Naive Bayes\n",
    "\n",
    "  ​\t\tLSTM 适合处理序列变化的数据，对于文本类型的数据，可以将文本切分为单词，每个单词用向量表示，LSTM输入词向量表示的文本序列，能够发掘序列中数据的依赖关系。\n",
    "\n",
    "  ​\t\t对于SVM 和 Naive Bayes，只能将文本转化为一个向量表示，不能捕捉到序列的变化过程，不适用于处理序列的输入。\n",
    "  \n",
    "  \n",
    "\n",
    "​        使用Word2Vec + LSTM的结果是最好的，Word2Vec 能够表示词的语义，LSTM较为适合处理序列变化的数据，能够发掘序列中数据的依赖关系，二者结合能够较好地分析文本序列。\n"
   ]
  }
 ],
 "metadata": {
  "colab": {
   "collapsed_sections": [],
   "name": "FINAL2-ML有结果.ipynb",
   "provenance": []
  },
  "kernelspec": {
   "display_name": "Python 3",
   "language": "python",
   "name": "python3"
  },
  "language_info": {
   "codemirror_mode": {
    "name": "ipython",
    "version": 3
   },
   "file_extension": ".py",
   "mimetype": "text/x-python",
   "name": "python",
   "nbconvert_exporter": "python",
   "pygments_lexer": "ipython3",
   "version": "3.7.3"
  }
 },
 "nbformat": 4,
 "nbformat_minor": 1
}
